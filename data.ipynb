{
 "cells": [
  {
   "cell_type": "code",
   "execution_count": 7,
   "metadata": {},
   "outputs": [],
   "source": [
    "from torchtext import data\n",
    "from torchtext.vocab import GloVe\n",
    "import torch\n",
    "import spacy\n",
    "from torchtext.data import Iterator, BucketIterator\n",
    "\n",
    "class getHotpotData():\n",
    "    def __init__(self,args,trainPath,devPath,):\n",
    "        self.nlp = spacy.load('en_core_web_sm', disable=['ner', 'parser', 'tagger'])   \n",
    "        self.trainpath= trainPath\n",
    "        self.devpath= devPath\n",
    "        self.ANSWER  = data.Field(tokenize = self.tokenizer)\n",
    "        self.QUESTION = data.Field(tokenize = self.tokenizer)\n",
    "        self.CONTEXT = data.Field(tokenize = self.tokenizer)\n",
    "        fields = {'context':('Context', self.CONTEXT),'answer':('Answer', self.ANSWER),'question':('Question', self.QUESTION)}\n",
    "        \n",
    "        self.train = data.TabularDataset(path = self.trainpath,format='csv',fields=fields)\n",
    "        self.dev = data.TabularDataset(path = self.devpath,format='csv',fields=fields)\n",
    "        \n",
    "        self.CONTEXT.build_vocab(self.train, vectors=GloVe(name='6B', dim=300))  \n",
    "        self.QUESTION.build_vocab(self.train, vectors=GloVe(name='6B', dim=300)) \n",
    "        self.ANSWER.build_vocab(self.train, vectors=GloVe(name='6B', dim=300))\n",
    "        \n",
    "        self.train_iter = data.BucketIterator(dataset=self.train, batch_size=args.batch_size, shuffle=True, sort_within_batch=False, repeat=False)\n",
    "        self.dev_iter = data.BucketIterator(dataset=self.dev, batch_size=args.batch_size, shuffle=True, sort_within_batch=False, repeat=False)\n",
    "       \n",
    "        print('load hotpot data done')\n",
    "    def tokenizer(self,text):\n",
    "        return [str(token) for token in self.nlp(text)]\n",
    "    \n",
    "    def calculate_block_size(self, B):\n",
    "        data_lengths = []\n",
    "        for e in self.train.examples:\n",
    "            data_lengths.append(len(e.premise))\n",
    "            data_lengths.append(len(e.hypothesis))\n",
    "\n",
    "        mean = np.mean(data_lengths)\n",
    "        std = np.std(data_lengths)\n",
    "        self.block_size = int((2 * (std * ((2 * np.log(B)) ** (1/2)) + mean)) ** (1/3))\n",
    "    \n",
    "    \n",
    "trainpath = 'C:/Users/User/Documents/3.NLP/Dataset/HotpotQA/small/smalltrain.csv'\n",
    "devpath = 'C:/Users/User/Documents/3.NLP/Dataset/HotpotQA/small/smalldev.csv'\n",
    "\n"
   ]
  },
  {
   "cell_type": "code",
   "execution_count": null,
   "metadata": {},
   "outputs": [],
   "source": [
    "import argparse\n",
    "parser = argparse.ArgumentParser()\n",
    "parser.add_argument('--batch-size', default=32, type=int)\n",
    "args = parser.parse_args(args=[])\n",
    "myData = getHotpotData(args,trainpath,devpath)"
   ]
  },
  {
   "cell_type": "code",
   "execution_count": null,
   "metadata": {},
   "outputs": [],
   "source": []
  }
 ],
 "metadata": {
  "kernelspec": {
   "display_name": "Python 3",
   "language": "python",
   "name": "python3"
  },
  "language_info": {
   "codemirror_mode": {
    "name": "ipython",
    "version": 3
   },
   "file_extension": ".py",
   "mimetype": "text/x-python",
   "name": "python",
   "nbconvert_exporter": "python",
   "pygments_lexer": "ipython3",
   "version": "3.7.3"
  }
 },
 "nbformat": 4,
 "nbformat_minor": 2
}
