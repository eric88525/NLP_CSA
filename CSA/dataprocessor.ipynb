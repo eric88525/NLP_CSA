{
 "cells": [
  {
   "cell_type": "code",
   "execution_count": 1,
   "metadata": {},
   "outputs": [],
   "source": [
    "from torchtext import data\n",
    "\n",
    "class dataProcesser():\n",
    "    def __init__(self,src,des,n):\n",
    "        self.src = src\n",
    "        self.des = des\n",
    "        self.n = n\n",
    "        self.dics = {}\n",
    "        self.sepToken = '<sep> '\n",
    "        self.endToken = '<sep>'\n",
    "        CONTEXT = data.Field()\n",
    "        ANSWER  = data.Field()\n",
    "        QUESTION = data.Field()\n",
    "       \n",
    "        # define col: {[source data col name]:[your data col name],Field}\n",
    "        fields = {'context':('Context',CONTEXT),'question':('Question',QUESTION),'supporting_facts':('Answer',ANSWER)}\n",
    "        dataset = data.TabularDataset(path = src,format='json',fields=fields)\n",
    "        dataset = dataset.examples[0]\n",
    "        \n",
    "        self.dics = []\n",
    "        #len(dataset.Context)\n",
    "        for i in range (0,len(dataset.Context)):\n",
    "            s_id = 0\n",
    "            ts = {}\n",
    "            for title,sentence in dataset.Context[i]:\n",
    "                # title:str sentence:list     \n",
    "                ts[title] = [sentence,s_id]\n",
    "                s_id = s_id + len(sentence)\n",
    "            self.dics.append(ts)\n",
    "        self.go(dataset)\n",
    "    \n",
    "    def getAnswer(self,ans,idx):\n",
    "        # idx: data index\n",
    "        label = []\n",
    "        res = ''\n",
    "        dic = self.dics[idx]\n",
    "        for title, sent_id in ans:\n",
    "            if title in dic:\n",
    "                if sent_id < len(dic[title][0]):\n",
    "                    res += dic[title][0][sent_id] + self.sepToken\n",
    "                    #print('write data {} {}'.format(dic[title][1],sent_id))\n",
    "                    label.append(dic[title][1]+sent_id)\n",
    "        return [res,label]\n",
    "    \n",
    "    def getContext(self,text2DimList):\n",
    "        res = ''\n",
    "        for paragragh in text2DimList:\n",
    "            res += self.sepToken.join(paragragh[1]) + self.sepToken\n",
    "        return  res  \n",
    "\n",
    "    def go(self,dataset):\n",
    "        if self.n is -1:\n",
    "            self.n = len(dataset.Context)\n",
    "            print('data length is',self.n)\n",
    "        pbar = pyprind.ProgBar(self.n)\n",
    "        with open(self.des,'w',encoding=\"utf-8\",newline='') as csvfile:\n",
    "            writer = csv.writer(csvfile)\n",
    "            writer.writerow(['passage','question', 'answer','label'])\n",
    "            for i in range (0,self.n):\n",
    "                c =  self.getContext(dataset.Context[i]).lower()\n",
    "                q =  dataset.Question[i].lower()\n",
    "                a,l =  self.getAnswer(dataset.Answer[i],i)\n",
    "                writer.writerow([c,q,a,l])\n",
    "                pbar.update()\n",
    "        print('write down')  \n",
    "        "
   ]
  },
  {
   "cell_type": "code",
   "execution_count": 2,
   "metadata": {},
   "outputs": [
    {
     "ename": "NameError",
     "evalue": "name 'pyprind' is not defined",
     "output_type": "error",
     "traceback": [
      "\u001b[1;31m---------------------------------------------------------------------------\u001b[0m",
      "\u001b[1;31mNameError\u001b[0m                                 Traceback (most recent call last)",
      "\u001b[1;32m<ipython-input-2-b53d50cc2666>\u001b[0m in \u001b[0;36m<module>\u001b[1;34m\u001b[0m\n\u001b[0;32m      3\u001b[0m \u001b[0mdes\u001b[0m \u001b[1;33m=\u001b[0m \u001b[1;34m'./small_train_sep_1000.csv'\u001b[0m\u001b[1;33m\u001b[0m\u001b[1;33m\u001b[0m\u001b[0m\n\u001b[0;32m      4\u001b[0m \u001b[1;31m#des = 'C:/Users/User/Documents/3.NLP/Dataset/HotpotQA/train.csv'\u001b[0m\u001b[1;33m\u001b[0m\u001b[1;33m\u001b[0m\u001b[1;33m\u001b[0m\u001b[0m\n\u001b[1;32m----> 5\u001b[1;33m \u001b[0mdataProcesser\u001b[0m\u001b[1;33m(\u001b[0m\u001b[0msrc\u001b[0m\u001b[1;33m,\u001b[0m\u001b[0mdes\u001b[0m\u001b[1;33m,\u001b[0m\u001b[1;36m100\u001b[0m\u001b[1;33m)\u001b[0m\u001b[1;33m\u001b[0m\u001b[1;33m\u001b[0m\u001b[0m\n\u001b[0m\u001b[0;32m      6\u001b[0m \u001b[0msrc\u001b[0m \u001b[1;33m=\u001b[0m \u001b[1;34m'C:/Users/User/Documents/3.NLP/Dataset/HotpotQA/dev.json'\u001b[0m\u001b[1;33m\u001b[0m\u001b[1;33m\u001b[0m\u001b[0m\n\u001b[0;32m      7\u001b[0m \u001b[0mdes\u001b[0m \u001b[1;33m=\u001b[0m \u001b[1;34m'C:/Users/User/Documents/3.NLP/Dataset/HotpotQA/small/small_dev_sep_100.csv'\u001b[0m\u001b[1;33m\u001b[0m\u001b[1;33m\u001b[0m\u001b[0m\n",
      "\u001b[1;32m<ipython-input-1-2cd1363f1bd0>\u001b[0m in \u001b[0;36m__init__\u001b[1;34m(self, src, des, n)\u001b[0m\n\u001b[0;32m     28\u001b[0m                 \u001b[0ms_id\u001b[0m \u001b[1;33m=\u001b[0m \u001b[0ms_id\u001b[0m \u001b[1;33m+\u001b[0m \u001b[0mlen\u001b[0m\u001b[1;33m(\u001b[0m\u001b[0msentence\u001b[0m\u001b[1;33m)\u001b[0m\u001b[1;33m\u001b[0m\u001b[1;33m\u001b[0m\u001b[0m\n\u001b[0;32m     29\u001b[0m             \u001b[0mself\u001b[0m\u001b[1;33m.\u001b[0m\u001b[0mdics\u001b[0m\u001b[1;33m.\u001b[0m\u001b[0mappend\u001b[0m\u001b[1;33m(\u001b[0m\u001b[0mts\u001b[0m\u001b[1;33m)\u001b[0m\u001b[1;33m\u001b[0m\u001b[1;33m\u001b[0m\u001b[0m\n\u001b[1;32m---> 30\u001b[1;33m         \u001b[0mself\u001b[0m\u001b[1;33m.\u001b[0m\u001b[0mgo\u001b[0m\u001b[1;33m(\u001b[0m\u001b[0mdataset\u001b[0m\u001b[1;33m)\u001b[0m\u001b[1;33m\u001b[0m\u001b[1;33m\u001b[0m\u001b[0m\n\u001b[0m\u001b[0;32m     31\u001b[0m \u001b[1;33m\u001b[0m\u001b[0m\n\u001b[0;32m     32\u001b[0m     \u001b[1;32mdef\u001b[0m \u001b[0mgetAnswer\u001b[0m\u001b[1;33m(\u001b[0m\u001b[0mself\u001b[0m\u001b[1;33m,\u001b[0m\u001b[0mans\u001b[0m\u001b[1;33m,\u001b[0m\u001b[0midx\u001b[0m\u001b[1;33m)\u001b[0m\u001b[1;33m:\u001b[0m\u001b[1;33m\u001b[0m\u001b[1;33m\u001b[0m\u001b[0m\n",
      "\u001b[1;32m<ipython-input-1-2cd1363f1bd0>\u001b[0m in \u001b[0;36mgo\u001b[1;34m(self, dataset)\u001b[0m\n\u001b[0;32m     53\u001b[0m             \u001b[0mself\u001b[0m\u001b[1;33m.\u001b[0m\u001b[0mn\u001b[0m \u001b[1;33m=\u001b[0m \u001b[0mlen\u001b[0m\u001b[1;33m(\u001b[0m\u001b[0mdataset\u001b[0m\u001b[1;33m.\u001b[0m\u001b[0mContext\u001b[0m\u001b[1;33m)\u001b[0m\u001b[1;33m\u001b[0m\u001b[1;33m\u001b[0m\u001b[0m\n\u001b[0;32m     54\u001b[0m             \u001b[0mprint\u001b[0m\u001b[1;33m(\u001b[0m\u001b[1;34m'data length is'\u001b[0m\u001b[1;33m,\u001b[0m\u001b[0mself\u001b[0m\u001b[1;33m.\u001b[0m\u001b[0mn\u001b[0m\u001b[1;33m)\u001b[0m\u001b[1;33m\u001b[0m\u001b[1;33m\u001b[0m\u001b[0m\n\u001b[1;32m---> 55\u001b[1;33m         \u001b[0mpbar\u001b[0m \u001b[1;33m=\u001b[0m \u001b[0mpyprind\u001b[0m\u001b[1;33m.\u001b[0m\u001b[0mProgBar\u001b[0m\u001b[1;33m(\u001b[0m\u001b[0mself\u001b[0m\u001b[1;33m.\u001b[0m\u001b[0mn\u001b[0m\u001b[1;33m)\u001b[0m\u001b[1;33m\u001b[0m\u001b[1;33m\u001b[0m\u001b[0m\n\u001b[0m\u001b[0;32m     56\u001b[0m         \u001b[1;32mwith\u001b[0m \u001b[0mopen\u001b[0m\u001b[1;33m(\u001b[0m\u001b[0mself\u001b[0m\u001b[1;33m.\u001b[0m\u001b[0mdes\u001b[0m\u001b[1;33m,\u001b[0m\u001b[1;34m'w'\u001b[0m\u001b[1;33m,\u001b[0m\u001b[0mencoding\u001b[0m\u001b[1;33m=\u001b[0m\u001b[1;34m\"utf-8\"\u001b[0m\u001b[1;33m,\u001b[0m\u001b[0mnewline\u001b[0m\u001b[1;33m=\u001b[0m\u001b[1;34m''\u001b[0m\u001b[1;33m)\u001b[0m \u001b[1;32mas\u001b[0m \u001b[0mcsvfile\u001b[0m\u001b[1;33m:\u001b[0m\u001b[1;33m\u001b[0m\u001b[1;33m\u001b[0m\u001b[0m\n\u001b[0;32m     57\u001b[0m             \u001b[0mwriter\u001b[0m \u001b[1;33m=\u001b[0m \u001b[0mcsv\u001b[0m\u001b[1;33m.\u001b[0m\u001b[0mwriter\u001b[0m\u001b[1;33m(\u001b[0m\u001b[0mcsvfile\u001b[0m\u001b[1;33m)\u001b[0m\u001b[1;33m\u001b[0m\u001b[1;33m\u001b[0m\u001b[0m\n",
      "\u001b[1;31mNameError\u001b[0m: name 'pyprind' is not defined"
     ]
    }
   ],
   "source": [
    "src = 'C:/Users/User/Documents/3.NLP/Dataset/HotpotQA/train.json'\n",
    "des = 'C:/Users/User/Documents/3.NLP/Dataset/HotpotQA/small/small_train_sep_100.csv'\n",
    "des = './small_train_sep_1000.csv'\n",
    "#des = 'C:/Users/User/Documents/3.NLP/Dataset/HotpotQA/train.csv'\n",
    "dataProcesser(src,des,100)\n",
    "src = 'C:/Users/User/Documents/3.NLP/Dataset/HotpotQA/dev.json'\n",
    "des = 'C:/Users/User/Documents/3.NLP/Dataset/HotpotQA/small/small_dev_sep_100.csv'\n",
    "des = './small_dev_sep_1000.csv'\n",
    "#des = 'C:/Users/User/Documents/3.NLP/Dataset/HotpotQA/dev.csv'\n",
    "dataProcesser(src,des,1000)"
   ]
  }
 ],
 "metadata": {
  "kernelspec": {
   "display_name": "Python 3",
   "language": "python",
   "name": "python3"
  },
  "language_info": {
   "codemirror_mode": {
    "name": "ipython",
    "version": 3
   },
   "file_extension": ".py",
   "mimetype": "text/x-python",
   "name": "python",
   "nbconvert_exporter": "python",
   "pygments_lexer": "ipython3",
   "version": "3.7.3"
  }
 },
 "nbformat": 4,
 "nbformat_minor": 4
}
