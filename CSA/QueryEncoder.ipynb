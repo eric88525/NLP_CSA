{
 "cells": [
  {
   "cell_type": "code",
   "execution_count": 1,
   "metadata": {},
   "outputs": [],
   "source": [
    "import math\n",
    "import torch\n",
    "import torch.nn as nn\n",
    "import torch.nn.functional as F\n",
    "\n",
    "# word_dim , n_head , n_hid , dropout , nlayers\n",
    "class customizedModule(nn.Module):\n",
    "    def __init__(self):\n",
    "        super(customizedModule, self).__init__()\n",
    "\n",
    "    # linear transformation (w/ initialization) + activation + dropout\n",
    "    def customizedLinear(self, in_dim, out_dim, activation=None, dropout=False):\n",
    "        cl = nn.Sequential(nn.Linear(in_dim, out_dim))\n",
    "        nn.init.xavier_uniform_(cl[0].weight)\n",
    "        nn.init.constant_(cl[0].bias, 0)\n",
    "\n",
    "        if activation is not None:\n",
    "            cl.add_module(str(len(cl)), activation)\n",
    "        if dropout:\n",
    "            cl.add_module(str(len(cl)), nn.Dropout(p=self.args.dropout))\n",
    "\n",
    "        return cl\n",
    "\n",
    "class Q_S2T(customizedModule):\n",
    "    def __init__(self, hidden_size):\n",
    "        super(Q_S2T, self).__init__()\n",
    "\n",
    "        self.s2t_W1 = self.customizedLinear(hidden_size, hidden_size, activation=nn.ReLU())\n",
    "        self.s2t_W = self.customizedLinear(hidden_size, hidden_size)\n",
    "\n",
    "    def forward(self, x):\n",
    "        \"\"\"\n",
    "        source2token self-attention module\n",
    "        :param x: (batch, seq_len, hidden_size)\n",
    "        :return: s: (batch, hidden_size)\n",
    "        \"\"\"\n",
    "\n",
    "        # (batch, (block_num), seq_len, word_dim)\n",
    "        f = self.s2t_W1(x)\n",
    "        f = F.softmax(self.s2t_W(f), dim=-2)\n",
    "        # (batch, (block_num), word_dim)\n",
    "        s = torch.sum(f * x, dim=-2)\n",
    "        return s    \n",
    "\n",
    "\n",
    "class qEncoder(nn.Module):\n",
    "    def __init__(self,word_dim,n_head,n_hid,dropout,nlayers):\n",
    "        super(qEncoder, self).__init__()\n",
    "        from torch.nn import TransformerEncoder, TransformerEncoderLayer\n",
    "        encoder_layers = TransformerEncoderLayer(word_dim, n_head, n_hid, dropout)\n",
    "        self.transformer_encoder = TransformerEncoder(encoder_layers, nlayers)\n",
    "        self.s2t = Q_S2T(word_dim)\n",
    "        #self.l = nn.Linear(300,1)\n",
    "    def forward(self,x):\n",
    "        #(batch,sequence,worddim)\n",
    "        x = self.transformer_encoder(x,None)\n",
    "        x = self.s2t(x)\n",
    "        return  x"
   ]
  },
  {
   "cell_type": "code",
   "execution_count": null,
   "metadata": {},
   "outputs": [],
   "source": []
  }
 ],
 "metadata": {
  "kernelspec": {
   "display_name": "Python 3",
   "language": "python",
   "name": "python3"
  },
  "language_info": {
   "codemirror_mode": {
    "name": "ipython",
    "version": 3
   },
   "file_extension": ".py",
   "mimetype": "text/x-python",
   "name": "python",
   "nbconvert_exporter": "python",
   "pygments_lexer": "ipython3",
   "version": "3.7.3"
  }
 },
 "nbformat": 4,
 "nbformat_minor": 2
}
