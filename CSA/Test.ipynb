{
 "cells": [
  {
   "cell_type": "code",
   "execution_count": 15,
   "metadata": {},
   "outputs": [],
   "source": [
    "import import_ipynb\n",
    "from mydata import getHotpotData\n",
    "from mydata import dataProcesser\n",
    "import argparse\n",
    "import spacy\n",
    "import csv\n",
    "import pyprind\n",
    "from torchtext import data\n",
    "from torchtext.vocab import GloVe\n",
    "import numpy as np\n",
    "import torch\n",
    "from torchtext.data import Iterator, BucketIterator\n",
    "from spacy.symbols import ORTH\n",
    "from QueryEncoder import CSAEncoder\n",
    "\n",
    "parser = argparse.ArgumentParser()\n",
    "parser.add_argument('--batch-size', default=32, type=int)\n",
    "parser.add_argument('--gpu', default=torch.device('cuda:0' if torch.cuda.is_available() else 'cpu'), type=int)\n",
    "parser.add_argument('--csa-mode',default='add',type = str)\n",
    "parser.add_argument('--word-dim',default=300,type = int)\n",
    "parser.add_argument('--block-size', default=-1, type=int)\n",
    "parser.add_argument('--mSA-scalar', default=5.0, type=float)\n",
    "args = parser.parse_args(args=[])\n",
    "\n",
    "trainpath = 'C:/Users/User/Documents/3.NLP/Dataset/HotpotQA/small/small_train_sep_100.csv'\n",
    "devpath = 'C:/Users/User/Documents/3.NLP/Dataset/HotpotQA/small/small_dev_sep_100.csv'\n",
    "\n"
   ]
  },
  {
   "cell_type": "code",
   "execution_count": 16,
   "metadata": {},
   "outputs": [
    {
     "name": "stdout",
     "output_type": "stream",
     "text": [
      "load hotpot data done\n",
      "done\n"
     ]
    }
   ],
   "source": [
    "mydata = getHotpotData(args,trainpath,devpath)\n",
    "print('done')"
   ]
  },
  {
   "cell_type": "code",
   "execution_count": 24,
   "metadata": {},
   "outputs": [
    {
     "name": "stdout",
     "output_type": "stream",
     "text": [
      "['arthur', \"'s\", 'magazine', '(', '1844–1846', ')', 'was', 'an', 'american', 'literary', 'periodical', 'published', 'in', 'philadelphia', 'in', 'the', '19th', 'century', '.', '<sep>', 'first', 'for', 'women', 'is', 'a', 'woman', \"'s\", 'magazine', 'published', 'by', 'bauer', 'media', 'group', 'in', 'the', 'usa', '.', '<sep>']\n",
      "[['arthur', \"'s\", 'magazine', '(', '1844–1846', ')', 'was', 'an', 'american', 'literary', 'periodical', 'published', 'in', 'philadelphia', 'in', 'the', '19th', 'century', '.'], ['first', 'for', 'women', 'is', 'a', 'woman', \"'s\", 'magazine', 'published', 'by', 'bauer', 'media', 'group', 'in', 'the', 'usa', '.']]\n",
      "========\n",
      "\n",
      "['the', 'oberoi', 'family', 'is', 'an', 'indian', 'family', 'that', 'is', 'famous', 'for', 'its', 'involvement', 'in', 'hotels', ',', 'namely', 'through', 'the', 'oberoi', 'group', '.', '<sep>', 'the', 'oberoi', 'group', 'is', 'a', 'hotel', 'company', 'with', 'its', 'head', 'office', 'in', 'delhi', '.', '<sep>']\n",
      "[['the', 'oberoi', 'family', 'is', 'an', 'indian', 'family', 'that', 'is', 'famous', 'for', 'its', 'involvement', 'in', 'hotels', ',', 'namely', 'through', 'the', 'oberoi', 'group', '.'], ['the', 'oberoi', 'group', 'is', 'a', 'hotel', 'company', 'with', 'its', 'head', 'office', 'in', 'delhi', '.']]\n",
      "========\n",
      "\n",
      "['allison', 'beth', '\"', 'allie', '\"', 'goertz', '(', 'born', 'march', '2', ',', '1991', ')', 'is', 'an', 'american', 'musician', '.', '<sep>', ' ', 'goertz', 'is', 'known', 'for', 'her', 'satirical', 'songs', 'based', 'on', 'various', 'pop', 'culture', 'topics', '.', '<sep>', ' ', 'her', 'videos', 'are', 'posted', 'on', 'youtube', 'under', 'the', 'name', 'of', 'cossbysweater', '.', '<sep>', 'milhouse', 'mussolini', 'van', 'houten', 'is', 'a', 'fictional', 'character', 'featured', 'in', 'the', 'animated', 'television', 'series', '\"', 'the', 'simpsons', '\"', ',', 'voiced', 'by', 'pamela', 'hayden', ',', 'and', 'created', 'by', 'matt', 'groening', 'who', 'named', 'the', 'character', 'after', 'president', 'richard', 'nixon', \"'s\", 'middle', 'name', '.', '<sep>']\n",
      "[['allison', 'beth', '\"', 'allie', '\"', 'goertz', '(', 'born', 'march', '2', ',', '1991', ')', 'is', 'an', 'american', 'musician', '.'], [' ', 'goertz', 'is', 'known', 'for', 'her', 'satirical', 'songs', 'based', 'on', 'various', 'pop', 'culture', 'topics', '.'], [' ', 'her', 'videos', 'are', 'posted', 'on', 'youtube', 'under', 'the', 'name', 'of', 'cossbysweater', '.'], ['milhouse', 'mussolini', 'van', 'houten', 'is', 'a', 'fictional', 'character', 'featured', 'in', 'the', 'animated', 'television', 'series', '\"', 'the', 'simpsons', '\"', ',', 'voiced', 'by', 'pamela', 'hayden', ',', 'and', 'created', 'by', 'matt', 'groening', 'who', 'named', 'the', 'character', 'after', 'president', 'richard', 'nixon', \"'s\", 'middle', 'name', '.']]\n",
      "========\n",
      "\n",
      "['margaret', '\"', 'peggy', '\"', 'seeger', '(', 'born', 'june', '17', ',', '1935', ')', 'is', 'an', 'american', 'folksinger', '.', '<sep>', ' ', 'she', 'is', 'also', 'well', 'known', 'in', 'britain', ',', 'where', 'she', 'has', 'lived', 'for', 'more', 'than', '30', 'years', ',', 'and', 'was', 'married', 'to', 'the', 'singer', 'and', 'songwriter', 'ewan', 'maccoll', 'until', 'his', 'death', 'in', '1989', '.', '<sep>', 'james', 'henry', 'miller', '(', '25', 'january', '1915', '–', '22', 'october', '1989', ')', ',', 'better', 'known', 'by', 'his', 'stage', 'name', 'ewan', 'maccoll', ',', 'was', 'an', 'english', 'folk', 'singer', ',', 'songwriter', ',', 'communist', ',', 'labour', 'activist', ',', 'actor', ',', 'poet', ',', 'playwright', 'and', 'record', 'producer', '.', '<sep>']\n",
      "[['margaret', '\"', 'peggy', '\"', 'seeger', '(', 'born', 'june', '17', ',', '1935', ')', 'is', 'an', 'american', 'folksinger', '.'], [' ', 'she', 'is', 'also', 'well', 'known', 'in', 'britain', ',', 'where', 'she', 'has', 'lived', 'for', 'more', 'than', '30', 'years', ',', 'and', 'was', 'married', 'to', 'the', 'singer', 'and', 'songwriter', 'ewan', 'maccoll', 'until', 'his', 'death', 'in', '1989', '.'], ['james', 'henry', 'miller', '(', '25', 'january', '1915', '–', '22', 'october', '1989', ')', ',', 'better', 'known', 'by', 'his', 'stage', 'name', 'ewan', 'maccoll', ',', 'was', 'an', 'english', 'folk', 'singer', ',', 'songwriter', ',', 'communist', ',', 'labour', 'activist', ',', 'actor', ',', 'poet', ',', 'playwright', 'and', 'record', 'producer', '.']]\n",
      "========\n",
      "\n",
      "[' ', 'it', 'is', 'a', 'hygroscopic', 'solid', 'that', 'is', 'highly', 'soluble', 'in', 'water', 'and', 'slightly', 'soluble', 'in', 'alcohol', '.', '<sep>', 'ethanol', ',', 'also', 'called', 'alcohol', ',', 'ethyl', 'alcohol', ',', 'and', 'drinking', 'alcohol', ',', 'is', 'a', 'compound', 'and', 'simple', 'alcohol', 'with', 'the', 'chemical', 'formula', 'c2h5oh', '.', '<sep>']\n",
      "[[' ', 'it', 'is', 'a', 'hygroscopic', 'solid', 'that', 'is', 'highly', 'soluble', 'in', 'water', 'and', 'slightly', 'soluble', 'in', 'alcohol', '.'], ['ethanol', ',', 'also', 'called', 'alcohol', ',', 'ethyl', 'alcohol', ',', 'and', 'drinking', 'alcohol', ',', 'is', 'a', 'compound', 'and', 'simple', 'alcohol', 'with', 'the', 'chemical', 'formula', 'c2h5oh', '.']]\n",
      "========\n",
      "\n",
      "['jonathan', 'stark', '(', 'born', 'april', '3', ',', '1971', ')', 'is', 'a', 'former', 'professional', 'tennis', 'player', 'from', 'the', 'united', 'states', '.', '<sep>', ' ', 'during', 'his', 'career', 'he', 'won', 'two', 'grand', 'slam', 'doubles', 'titles', '(', 'the', '1994', 'french', 'open', 'men', \"'s\", 'doubles', 'and', 'the', '1995', 'wimbledon', 'championships', 'mixed', 'doubles', ')', '.', '<sep>', ' ', 'he', 'reached', 'the', 'men', \"'s\", 'singles', 'final', 'at', 'the', 'french', 'open', 'in', '1988', ',', 'won', 'the', 'french', 'open', 'men', \"'s\", 'doubles', 'title', 'in', '1984', ',', 'and', 'helped', 'france', 'win', 'the', 'davis', 'cup', 'in', '1991', '.', '<sep>']\n",
      "[['jonathan', 'stark', '(', 'born', 'april', '3', ',', '1971', ')', 'is', 'a', 'former', 'professional', 'tennis', 'player', 'from', 'the', 'united', 'states', '.'], [' ', 'during', 'his', 'career', 'he', 'won', 'two', 'grand', 'slam', 'doubles', 'titles', '(', 'the', '1994', 'french', 'open', 'men', \"'s\", 'doubles', 'and', 'the', '1995', 'wimbledon', 'championships', 'mixed', 'doubles', ')', '.'], [' ', 'he', 'reached', 'the', 'men', \"'s\", 'singles', 'final', 'at', 'the', 'french', 'open', 'in', '1988', ',', 'won', 'the', 'french', 'open', 'men', \"'s\", 'doubles', 'title', 'in', '1984', ',', 'and', 'helped', 'france', 'win', 'the', 'davis', 'cup', 'in', '1991', '.']]\n",
      "========\n",
      "\n",
      "['indogrammodes', 'is', 'a', 'genus', 'of', 'moths', 'of', 'the', 'crambidae', 'family', '.', '<sep>', ' ', 'it', 'contains', 'only', 'one', 'species', ',', 'indogrammodes', 'pectinicornalis', ',', 'which', 'is', 'found', 'in', 'india', '.', '<sep>', 'india', ',', 'officially', 'the', 'republic', 'of', 'india', '(', '\"', 'bhārat', 'gaṇarājya', '\"', ')', ',', 'is', 'a', 'country', 'in', 'south', 'asia', '.', '<sep>', ' ', 'it', 'is', 'the', 'seventh', '-', 'largest', 'country', 'by', 'area', ',', 'the', 'second', '-', 'most', 'populous', 'country', '(', 'with', 'over', '1.2', 'billion', 'people', ')', ',', 'and', 'the', 'most', 'populous', 'democracy', 'in', 'the', 'world', '.', '<sep>']\n",
      "[['indogrammodes', 'is', 'a', 'genus', 'of', 'moths', 'of', 'the', 'crambidae', 'family', '.'], [' ', 'it', 'contains', 'only', 'one', 'species', ',', 'indogrammodes', 'pectinicornalis', ',', 'which', 'is', 'found', 'in', 'india', '.'], ['india', ',', 'officially', 'the', 'republic', 'of', 'india', '(', '\"', 'bhārat', 'gaṇarājya', '\"', ')', ',', 'is', 'a', 'country', 'in', 'south', 'asia', '.'], [' ', 'it', 'is', 'the', 'seventh', '-', 'largest', 'country', 'by', 'area', ',', 'the', 'second', '-', 'most', 'populous', 'country', '(', 'with', 'over', '1.2', 'billion', 'people', ')', ',', 'and', 'the', 'most', 'populous', 'democracy', 'in', 'the', 'world', '.']]\n",
      "========\n",
      "\n"
     ]
    },
    {
     "name": "stdout",
     "output_type": "stream",
     "text": [
      "[' ', 'fighters', 'from', 'around', 'world', 'on', 'the', 'roster', 'include', 'badr', 'hari', ',', 'peter', 'aerts', ',', 'peter', 'graham', ',', 'dewey', 'cooper', ',', 'zabit', 'samedov', '.', '<sep>', ' ', 'it', 'was', 'considered', 'as', 'one', 'of', 'the', 'biggest', 'kickboxing', 'and', 'mma', 'promotion', 'in', 'middle', 'east', '.', '<sep>', 'badr', 'hari', '(', 'arabic', ':', 'بدر', 'هاري\\u200e', '\\u200e', ';', 'born', '8', 'december', '1984', ')', 'is', 'a', 'moroccan', '-', 'dutch', 'super', 'heavyweight', 'kickboxer', 'from', 'amsterdam', ',', 'fighting', 'out', 'of', 'mike', \"'s\", 'gym', 'in', 'oostzaan', '.', '<sep>', ' ', 'hari', 'has', 'been', 'a', 'prominent', 'figure', 'in', 'the', 'world', 'of', 'kickboxing', 'and', 'was', 'once', 'considered', 'the', 'best', 'kickboxer', 'in', 'the', 'world', ',', 'however', 'he', 'has', 'been', 'involved', 'in', 'a', 'number', 'of', 'controversies', 'relating', 'to', 'his', '\"', 'unsportsmanlike', 'conducts', '\"', 'in', 'the', 'sport', 'and', 'crimes', 'of', 'violence', 'outside', 'of', 'the', 'ring', '.', '<sep>']\n",
      "[[' ', 'fighters', 'from', 'around', 'world', 'on', 'the', 'roster', 'include', 'badr', 'hari', ',', 'peter', 'aerts', ',', 'peter', 'graham', ',', 'dewey', 'cooper', ',', 'zabit', 'samedov', '.'], [' ', 'it', 'was', 'considered', 'as', 'one', 'of', 'the', 'biggest', 'kickboxing', 'and', 'mma', 'promotion', 'in', 'middle', 'east', '.'], ['badr', 'hari', '(', 'arabic', ':', 'بدر', 'هاري\\u200e', '\\u200e', ';', 'born', '8', 'december', '1984', ')', 'is', 'a', 'moroccan', '-', 'dutch', 'super', 'heavyweight', 'kickboxer', 'from', 'amsterdam', ',', 'fighting', 'out', 'of', 'mike', \"'s\", 'gym', 'in', 'oostzaan', '.'], [' ', 'hari', 'has', 'been', 'a', 'prominent', 'figure', 'in', 'the', 'world', 'of', 'kickboxing', 'and', 'was', 'once', 'considered', 'the', 'best', 'kickboxer', 'in', 'the', 'world', ',', 'however', 'he', 'has', 'been', 'involved', 'in', 'a', 'number', 'of', 'controversies', 'relating', 'to', 'his', '\"', 'unsportsmanlike', 'conducts', '\"', 'in', 'the', 'sport', 'and', 'crimes', 'of', 'violence', 'outside', 'of', 'the', 'ring', '.']]\n",
      "========\n",
      "\n",
      "['house', 'of', 'anubis', 'is', 'a', 'mystery', 'television', 'series', 'developed', 'for', 'nickelodeon', 'based', 'on', 'the', 'dutch', '-', 'belgian', 'television', 'series', '\"', 'het', 'huis', 'anubis', '\"', '.', '<sep>', ' ', 'it', 'first', 'aired', 'in', 'september', '2006', 'and', 'the', 'last', 'episode', 'was', 'broadcast', 'on', 'december', '4', ',', '2009', '.', '<sep>']\n",
      "[['house', 'of', 'anubis', 'is', 'a', 'mystery', 'television', 'series', 'developed', 'for', 'nickelodeon', 'based', 'on', 'the', 'dutch', '-', 'belgian', 'television', 'series', '\"', 'het', 'huis', 'anubis', '\"', '.'], [' ', 'it', 'first', 'aired', 'in', 'september', '2006', 'and', 'the', 'last', 'episode', 'was', 'broadcast', 'on', 'december', '4', ',', '2009', '.']]\n",
      "========\n",
      "\n",
      "['the', '2013', 'liqui', 'moly', 'bathurst', '12', 'hour', 'was', 'an', 'endurance', 'race', 'for', 'a', 'variety', 'of', 'gt', 'and', 'touring', 'car', 'classes', ',', 'including', ':', 'gt3', 'cars', ',', 'gt4', 'cars', ',', 'group', '3e', 'series', 'production', 'cars', 'and', 'dubai', '24', 'hour', 'cars', '.', '<sep>', ' ', 'the', 'event', ',', 'which', 'was', 'staged', 'at', 'the', 'mount', 'panorama', 'circuit', ',', 'near', 'bathurst', ',', 'in', 'new', 'south', 'wales', ',', 'australia', 'on', '10', 'february', '2013', ',', 'was', 'the', 'eleventh', 'running', 'of', 'the', 'bathurst', '12', 'hour', '.', '<sep>', 'mount', 'panorama', 'circuit', 'is', 'a', 'motor', 'racing', 'track', 'located', 'in', 'bathurst', ',', 'new', 'south', 'wales', ',', 'australia', '.', '<sep>', ' ', 'the', '6.213', 'km', 'long', 'track', 'is', 'technically', 'a', 'street', 'circuit', ',', 'and', 'is', 'a', 'public', 'road', ',', 'with', 'normal', 'speed', 'restrictions', ',', 'when', 'no', 'racing', 'events', 'are', 'being', 'run', ',', 'and', 'there', 'are', 'many', 'residences', 'which', 'can', 'only', 'be', 'accessed', 'from', 'the', 'circuit', '.', '<sep>']\n",
      "[['the', '2013', 'liqui', 'moly', 'bathurst', '12', 'hour', 'was', 'an', 'endurance', 'race', 'for', 'a', 'variety', 'of', 'gt', 'and', 'touring', 'car', 'classes', ',', 'including', ':', 'gt3', 'cars', ',', 'gt4', 'cars', ',', 'group', '3e', 'series', 'production', 'cars', 'and', 'dubai', '24', 'hour', 'cars', '.'], [' ', 'the', 'event', ',', 'which', 'was', 'staged', 'at', 'the', 'mount', 'panorama', 'circuit', ',', 'near', 'bathurst', ',', 'in', 'new', 'south', 'wales', ',', 'australia', 'on', '10', 'february', '2013', ',', 'was', 'the', 'eleventh', 'running', 'of', 'the', 'bathurst', '12', 'hour', '.'], ['mount', 'panorama', 'circuit', 'is', 'a', 'motor', 'racing', 'track', 'located', 'in', 'bathurst', ',', 'new', 'south', 'wales', ',', 'australia', '.'], [' ', 'the', '6.213', 'km', 'long', 'track', 'is', 'technically', 'a', 'street', 'circuit', ',', 'and', 'is', 'a', 'public', 'road', ',', 'with', 'normal', 'speed', 'restrictions', ',', 'when', 'no', 'racing', 'events', 'are', 'being', 'run', ',', 'and', 'there', 'are', 'many', 'residences', 'which', 'can', 'only', 'be', 'accessed', 'from', 'the', 'circuit', '.']]\n",
      "========\n",
      "\n",
      "[' ', 'vocals', 'are', 'handled', 'by', 'aesop', 'rock', ',', 'with', 'guest', 'appearances', 'from', 'camu', 'tao', 'and', 'metro', 'of', 's.a', '.', 'smash', 'and', 'definitive', 'jux', 'label', 'head', 'el', '-', 'p', '.', '<sep>', 'jaime', 'meline', '(', 'born', 'march', '2', ',', '1975', ')', ',', 'better', 'known', 'by', 'his', 'stage', 'name', 'el', '-', 'p', '(', 'shortened', 'from', 'el', 'producto', ')', ',', 'is', 'an', 'american', 'hip', 'hop', 'recording', 'artist', ',', 'record', 'producer', ',', 'and', 'record', 'executive', '.', '<sep>']\n",
      "[[' ', 'vocals', 'are', 'handled', 'by', 'aesop', 'rock', ',', 'with', 'guest', 'appearances', 'from', 'camu', 'tao', 'and', 'metro', 'of', 's.a', '.', 'smash', 'and', 'definitive', 'jux', 'label', 'head', 'el', '-', 'p', '.'], ['jaime', 'meline', '(', 'born', 'march', '2', ',', '1975', ')', ',', 'better', 'known', 'by', 'his', 'stage', 'name', 'el', '-', 'p', '(', 'shortened', 'from', 'el', 'producto', ')', ',', 'is', 'an', 'american', 'hip', 'hop', 'recording', 'artist', ',', 'record', 'producer', ',', 'and', 'record', 'executive', '.']]\n",
      "========\n",
      "\n",
      "['gunmen', 'from', 'laredo', 'is', 'a', '1959', 'american', 'western', 'film', 'produced', 'and', 'directed', 'by', 'wallace', 'macdonald', ',', 'which', 'stars', 'robert', 'knapp', ',', 'maureen', 'hingert', ',', 'and', 'walter', 'coy', '.', '<sep>', 'walter', 'darwin', 'coy', '(', 'january', '31', ',', '1909', '–', 'december', '11', ',', '1974', ')', 'was', 'an', 'american', 'stage', ',', 'radio', ',', 'film', ',', 'and', ',', 'principally', ',', 'television', 'actor', ',', 'originally', 'from', 'great', 'falls', ',', 'montana', '.', '<sep>', ' ', 'he', 'was', 'best', 'known', 'for', 'narrating', 'the', 'nbc', 'western', 'anthology', 'series', ',', '\"', 'frontier', '\"', ',', 'which', 'aired', 'early', 'sunday', 'evenings', 'in', 'the', '1955–1956', 'season', '.', '<sep>']\n",
      "[['gunmen', 'from', 'laredo', 'is', 'a', '1959', 'american', 'western', 'film', 'produced', 'and', 'directed', 'by', 'wallace', 'macdonald', ',', 'which', 'stars', 'robert', 'knapp', ',', 'maureen', 'hingert', ',', 'and', 'walter', 'coy', '.'], ['walter', 'darwin', 'coy', '(', 'january', '31', ',', '1909', '–', 'december', '11', ',', '1974', ')', 'was', 'an', 'american', 'stage', ',', 'radio', ',', 'film', ',', 'and', ',', 'principally', ',', 'television', 'actor', ',', 'originally', 'from', 'great', 'falls', ',', 'montana', '.'], [' ', 'he', 'was', 'best', 'known', 'for', 'narrating', 'the', 'nbc', 'western', 'anthology', 'series', ',', '\"', 'frontier', '\"', ',', 'which', 'aired', 'early', 'sunday', 'evenings', 'in', 'the', '1955–1956', 'season', '.']]\n",
      "========\n",
      "\n"
     ]
    },
    {
     "name": "stdout",
     "output_type": "stream",
     "text": [
      "['die', 'rhöner', 'säuwäntzt', 'are', 'a', 'skiffle', '-', 'bluesband', 'from', 'eichenzell', '-', 'lütter', 'in', 'hessen', ',', 'germany', '.', '<sep>', ' ', 'originating', 'as', 'a', 'term', 'in', 'the', 'united', 'states', 'in', 'the', 'first', 'half', 'of', 'the', '20th', 'century', ',', 'it', 'became', 'popular', 'again', 'in', 'the', 'uk', 'in', 'the', '1950s', ',', 'where', 'it', 'was', 'associated', 'with', 'artists', 'such', 'as', 'lonnie', 'donegan', ',', 'the', 'vipers', 'skiffle', 'group', ',', 'ken', 'colyer', 'and', 'chas', 'mcdevitt', '.', '<sep>']\n",
      "[['die', 'rhöner', 'säuwäntzt', 'are', 'a', 'skiffle', '-', 'bluesband', 'from', 'eichenzell', '-', 'lütter', 'in', 'hessen', ',', 'germany', '.'], [' ', 'originating', 'as', 'a', 'term', 'in', 'the', 'united', 'states', 'in', 'the', 'first', 'half', 'of', 'the', '20th', 'century', ',', 'it', 'became', 'popular', 'again', 'in', 'the', 'uk', 'in', 'the', '1950s', ',', 'where', 'it', 'was', 'associated', 'with', 'artists', 'such', 'as', 'lonnie', 'donegan', ',', 'the', 'vipers', 'skiffle', 'group', ',', 'ken', 'colyer', 'and', 'chas', 'mcdevitt', '.']]\n",
      "========\n",
      "\n",
      "[' ', 'smith', 'was', 'named', 'the', 'most', 'valuable', 'player', 'of', 'super', 'bowl', 'xlviii', 'after', 'they', 'defeated', 'the', 'denver', 'broncos', '.', '<sep>', 'super', 'bowl', 'xlviii', 'was', 'an', 'american', 'football', 'game', 'between', 'the', 'american', 'football', 'conference', '(', 'afc', ')', 'champion', 'denver', 'broncos', 'and', 'national', 'football', 'conference', '(', 'nfc', ')', 'champion', 'seattle', 'seahawks', 'to', 'decide', 'the', 'national', 'football', 'league', '(', 'nfl', ')', 'champion', 'for', 'the', '2013', 'season', '.', '<sep>']\n",
      "[[' ', 'smith', 'was', 'named', 'the', 'most', 'valuable', 'player', 'of', 'super', 'bowl', 'xlviii', 'after', 'they', 'defeated', 'the', 'denver', 'broncos', '.'], ['super', 'bowl', 'xlviii', 'was', 'an', 'american', 'football', 'game', 'between', 'the', 'american', 'football', 'conference', '(', 'afc', ')', 'champion', 'denver', 'broncos', 'and', 'national', 'football', 'conference', '(', 'nfc', ')', 'champion', 'seattle', 'seahawks', 'to', 'decide', 'the', 'national', 'football', 'league', '(', 'nfl', ')', 'champion', 'for', 'the', '2013', 'season', '.']]\n",
      "========\n",
      "\n",
      "[' ', 'the', 'nine', 'mile', 'byway', 'starts', 'south', 'of', 'morehead', ',', 'kentucky', 'and', 'can', 'be', 'accessed', 'by', 'u.s', '.', 'highway', '60', '.', '<sep>', 'morehead', 'is', 'a', 'home', 'rule', '-', 'class', 'city', 'located', 'along', 'us', '60', '(', 'the', 'historic', 'midland', 'trail', ')', 'and', 'interstate', '64', 'in', 'rowan', 'county', ',', 'kentucky', ',', 'in', 'the', 'united', 'states', '.', '<sep>']\n",
      "[[' ', 'the', 'nine', 'mile', 'byway', 'starts', 'south', 'of', 'morehead', ',', 'kentucky', 'and', 'can', 'be', 'accessed', 'by', 'u.s', '.', 'highway', '60', '.'], ['morehead', 'is', 'a', 'home', 'rule', '-', 'class', 'city', 'located', 'along', 'us', '60', '(', 'the', 'historic', 'midland', 'trail', ')', 'and', 'interstate', '64', 'in', 'rowan', 'county', ',', 'kentucky', ',', 'in', 'the', 'united', 'states', '.']]\n",
      "========\n",
      "\n",
      "['the', 'great', 'outdoors', 'is', 'a', '1988', 'american', 'comedy', 'film', 'directed', 'by', 'howard', 'deutch', ',', 'and', 'written', 'and', 'produced', 'by', 'john', 'hughes', '.', '<sep>', ' ', 'it', 'stars', 'dan', 'aykroyd', ',', 'john', 'candy', ',', 'stephanie', 'faracy', 'and', 'annette', 'bening', 'in', 'her', 'film', 'debut', '.', '<sep>', 'annette', 'carol', 'bening', '(', 'born', 'may', '29', ',', '1958', ')', 'is', 'an', 'american', 'actress', '.', '<sep>', ' ', 'she', 'is', 'a', 'four', '-', 'time', 'academy', 'award', 'nominee', ';', 'for', '\"', 'the', 'grifters', '\"', '(', '1990', ')', ',', '\"', 'american', 'beauty', '\"', '(', '1999', ')', ',', '\"', 'being', 'julia', '\"', '(', '2004', ')', 'and', '\"', 'the', 'kids', 'are', 'all', 'right', '\"', '(', '2010', ')', '.', '<sep>', ' ', 'in', '2006', ',', 'she', 'received', 'a', 'star', 'on', 'the', 'hollywood', 'walk', 'of', 'fame', '.', '<sep>']\n",
      "[['the', 'great', 'outdoors', 'is', 'a', '1988', 'american', 'comedy', 'film', 'directed', 'by', 'howard', 'deutch', ',', 'and', 'written', 'and', 'produced', 'by', 'john', 'hughes', '.'], [' ', 'it', 'stars', 'dan', 'aykroyd', ',', 'john', 'candy', ',', 'stephanie', 'faracy', 'and', 'annette', 'bening', 'in', 'her', 'film', 'debut', '.'], ['annette', 'carol', 'bening', '(', 'born', 'may', '29', ',', '1958', ')', 'is', 'an', 'american', 'actress', '.'], [' ', 'she', 'is', 'a', 'four', '-', 'time', 'academy', 'award', 'nominee', ';', 'for', '\"', 'the', 'grifters', '\"', '(', '1990', ')', ',', '\"', 'american', 'beauty', '\"', '(', '1999', ')', ',', '\"', 'being', 'julia', '\"', '(', '2004', ')', 'and', '\"', 'the', 'kids', 'are', 'all', 'right', '\"', '(', '2010', ')', '.'], [' ', 'in', '2006', ',', 'she', 'received', 'a', 'star', 'on', 'the', 'hollywood', 'walk', 'of', 'fame', '.']]\n",
      "========\n",
      "\n",
      "[' ', 'the', 'playbills', ',', 'which', 'describe', 'the', 'musical', 'as', 'having', '\"', 'explosions', ',', 'negligible', 'storytelling', ',', 'camouflage', 'and', 'tits', '\"', ',', 'also', 'state', 'that', 'the', 'musical', \"'s\", 'cast', 'included', 'actors', 'such', 'as', 'taye', 'diggs', '(', 'who', 'would', 'go', 'on', 'to', 'play', 'the', 'role', 'of', 'hedwig', 'in', 'the', 'summer', 'of', '2015', ')', 'and', 'that', 'the', 'music', 'was', 'written', 'by', 'metallica', 'and', 'stephen', 'r.', 'schwartz', ',', 'which', 'is', 'the', 'real', 'name', 'of', '\"', 'hedwig', '\"', 'songwriter', 'stephen', 'trask', '.', '<sep>', ' ', 'metallica', \"'s\", 'current', 'lineup', 'comprises', 'founding', 'members', 'hetfield', 'and', 'ulrich', ',', 'longtime', 'lead', 'guitarist', 'kirk', 'hammett', ',', 'and', 'bassist', 'robert', 'trujillo', '.', '<sep>']\n",
      "[[' ', 'the', 'playbills', ',', 'which', 'describe', 'the', 'musical', 'as', 'having', '\"', 'explosions', ',', 'negligible', 'storytelling', ',', 'camouflage', 'and', 'tits', '\"', ',', 'also', 'state', 'that', 'the', 'musical', \"'s\", 'cast', 'included', 'actors', 'such', 'as', 'taye', 'diggs', '(', 'who', 'would', 'go', 'on', 'to', 'play', 'the', 'role', 'of', 'hedwig', 'in', 'the', 'summer', 'of', '2015', ')', 'and', 'that', 'the', 'music', 'was', 'written', 'by', 'metallica', 'and', 'stephen', 'r.', 'schwartz', ',', 'which', 'is', 'the', 'real', 'name', 'of', '\"', 'hedwig', '\"', 'songwriter', 'stephen', 'trask', '.'], [' ', 'metallica', \"'s\", 'current', 'lineup', 'comprises', 'founding', 'members', 'hetfield', 'and', 'ulrich', ',', 'longtime', 'lead', 'guitarist', 'kirk', 'hammett', ',', 'and', 'bassist', 'robert', 'trujillo', '.']]\n",
      "========\n",
      "\n",
      "['\"', 'human', 'error', '\"', 'is', 'the', 'twenty', '-', 'fourth', 'episode', 'and', 'season', 'finale', 'of', 'the', 'third', 'season', 'of', '\"', 'house', '\"', 'and', 'the', 'seventieth', 'episode', 'overall', '.', '<sep>', 'house', '(', 'also', 'called', 'house', ',', 'm.d', '.', ')', 'is', 'an', 'american', 'television', 'medical', 'drama', 'that', 'originally', 'ran', 'on', 'the', 'fox', 'network', 'for', 'eight', 'seasons', ',', 'from', 'november', '16', ',', '2004', 'to', 'may', '21', ',', '2012', '.', '<sep>']\n",
      "[['\"', 'human', 'error', '\"', 'is', 'the', 'twenty', '-', 'fourth', 'episode', 'and', 'season', 'finale', 'of', 'the', 'third', 'season', 'of', '\"', 'house', '\"', 'and', 'the', 'seventieth', 'episode', 'overall', '.'], ['house', '(', 'also', 'called', 'house', ',', 'm.d', '.', ')', 'is', 'an', 'american', 'television', 'medical', 'drama', 'that', 'originally', 'ran', 'on', 'the', 'fox', 'network', 'for', 'eight', 'seasons', ',', 'from', 'november', '16', ',', '2004', 'to', 'may', '21', ',', '2012', '.']]\n",
      "========\n",
      "\n",
      "[' ', 'her', 'self', '-', 'titled', 'debut', 'studio', 'album', 'was', 'released', 'on', '2', 'june', '2017', '.', '<sep>', '\"', 'new', 'rules', '\"', 'is', 'a', 'song', 'by', 'english', 'singer', 'dua', 'lipa', 'from', 'her', 'eponymous', 'debut', 'studio', 'album', '(', '2017', ')', '.', '<sep>']\n"
     ]
    },
    {
     "name": "stdout",
     "output_type": "stream",
     "text": [
      "[[' ', 'her', 'self', '-', 'titled', 'debut', 'studio', 'album', 'was', 'released', 'on', '2', 'june', '2017', '.'], ['\"', 'new', 'rules', '\"', 'is', 'a', 'song', 'by', 'english', 'singer', 'dua', 'lipa', 'from', 'her', 'eponymous', 'debut', 'studio', 'album', '(', '2017', ')', '.']]\n",
      "========\n",
      "\n",
      "['joseph', 'john', '“', 'joe', '”', 'heck', '(', 'born', 'october', '30', ',', '1961', ')', 'is', 'an', 'american', 'politician', ',', 'physician', ',', 'and', 'u.s', '.', 'army', 'brigadier', 'general', 'who', 'had', 'served', 'as', 'the', 'u.s', '.', 'representative', 'for', 'nevada', \"'s\", '3rd', 'congressional', 'district', 'from', '2011', 'to', '2017', '.', '<sep>', ' ', 'he', 'ran', 'unsuccessfully', 'against', 'democrat', 'catherine', 'cortez', 'masto', 'in', 'the', 'general', 'election', 'for', 'the', 'open', 'nevada', 'united', 'states', 'senate', 'seat', 'in', '2016', '.', '<sep>', ' ', 'she', 'previously', 'served', 'as', 'the', '32nd', 'attorney', 'general', 'of', 'nevada', 'from', '2007', 'to', '2015', '.', '<sep>']\n",
      "[['joseph', 'john', '“', 'joe', '”', 'heck', '(', 'born', 'october', '30', ',', '1961', ')', 'is', 'an', 'american', 'politician', ',', 'physician', ',', 'and', 'u.s', '.', 'army', 'brigadier', 'general', 'who', 'had', 'served', 'as', 'the', 'u.s', '.', 'representative', 'for', 'nevada', \"'s\", '3rd', 'congressional', 'district', 'from', '2011', 'to', '2017', '.'], [' ', 'he', 'ran', 'unsuccessfully', 'against', 'democrat', 'catherine', 'cortez', 'masto', 'in', 'the', 'general', 'election', 'for', 'the', 'open', 'nevada', 'united', 'states', 'senate', 'seat', 'in', '2016', '.'], [' ', 'she', 'previously', 'served', 'as', 'the', '32nd', 'attorney', 'general', 'of', 'nevada', 'from', '2007', 'to', '2015', '.']]\n",
      "========\n",
      "\n",
      "['warren', 'bryant', 'was', 'the', 'ceo', 'of', 'longs', 'drugs', 'store', 'corporation', 'out', 'of', 'california', 'prior', 'to', 'the', 'retail', 'chain', \"'s\", 'acquisition', 'by', 'cvs', '/', 'caremark', '.', '<sep>', 'longs', 'drugs', 'is', 'an', 'american', 'chain', 'with', 'approximately', '40', 'drug', 'stores', 'throughout', 'the', 'state', 'of', 'hawaii', '.', '<sep>']\n",
      "[['warren', 'bryant', 'was', 'the', 'ceo', 'of', 'longs', 'drugs', 'store', 'corporation', 'out', 'of', 'california', 'prior', 'to', 'the', 'retail', 'chain', \"'s\", 'acquisition', 'by', 'cvs', '/', 'caremark', '.'], ['longs', 'drugs', 'is', 'an', 'american', 'chain', 'with', 'approximately', '40', 'drug', 'stores', 'throughout', 'the', 'state', 'of', 'hawaii', '.']]\n",
      "========\n",
      "\n",
      "[' ', 'donahue', 'replaced', 'kelli', 'ward', 'who', 'resigned', 'to', 'run', 'for', 'the', 'united', 'states', 'senate', '.', '<sep>', 'kelli', 'ward', '(', '\"', 'née', '\"', 'kaznoski', ';', 'born', 'january', '25', ',', '1969', ')', 'is', 'an', 'american', 'politician', 'and', 'osteopathic', 'physician', '.', '<sep>']\n",
      "[[' ', 'donahue', 'replaced', 'kelli', 'ward', 'who', 'resigned', 'to', 'run', 'for', 'the', 'united', 'states', 'senate', '.'], ['kelli', 'ward', '(', '\"', 'née', '\"', 'kaznoski', ';', 'born', 'january', '25', ',', '1969', ')', 'is', 'an', 'american', 'politician', 'and', 'osteopathic', 'physician', '.']]\n",
      "========\n",
      "\n",
      "['courtney', 'michelle', 'love', '(', 'born', 'courtney', 'michelle', 'harrison', ';', 'july', '9', ',', '1964', ')', 'is', 'an', 'american', 'singer', ',', 'songwriter', ',', 'actress', ',', 'and', 'visual', 'artist', '.', '<sep>', ' ', 'she', 'rose', 'to', 'prominence', 'as', 'the', 'frontwoman', 'of', 'the', 'alternative', 'rock', 'band', 'hole', ',', 'which', 'she', 'formed', 'in', '1989', '.', '<sep>', 'the', 'wolfhounds', 'are', 'an', 'indie', 'pop', '/', 'noise', 'pop', 'band', 'formed', 'in', 'romford', ',', 'uk', 'in', '1985', 'by', 'dave', 'callahan', ',', 'paul', 'clark', ',', 'andy', 'golding', ',', 'andy', 'bolton', 'and', 'frank', 'stebbing', ',', 'and', 'originally', 'active', 'until', '1990', '.', '<sep>']\n",
      "[['courtney', 'michelle', 'love', '(', 'born', 'courtney', 'michelle', 'harrison', ';', 'july', '9', ',', '1964', ')', 'is', 'an', 'american', 'singer', ',', 'songwriter', ',', 'actress', ',', 'and', 'visual', 'artist', '.'], [' ', 'she', 'rose', 'to', 'prominence', 'as', 'the', 'frontwoman', 'of', 'the', 'alternative', 'rock', 'band', 'hole', ',', 'which', 'she', 'formed', 'in', '1989', '.'], ['the', 'wolfhounds', 'are', 'an', 'indie', 'pop', '/', 'noise', 'pop', 'band', 'formed', 'in', 'romford', ',', 'uk', 'in', '1985', 'by', 'dave', 'callahan', ',', 'paul', 'clark', ',', 'andy', 'golding', ',', 'andy', 'bolton', 'and', 'frank', 'stebbing', ',', 'and', 'originally', 'active', 'until', '1990', '.']]\n",
      "========\n",
      "\n",
      "['catching', 'fire', 'is', 'a', '2009', 'science', 'fiction', 'young', 'adult', 'novel', 'by', 'the', 'american', 'novelist', 'suzanne', 'collins', ',', 'the', 'second', 'book', 'in', '\"', 'the', 'hunger', 'games', 'trilogy', '\"', '.', '<sep>', ' ', 'it', 'is', 'written', 'in', 'the', 'voice', 'of', '16-year', '-', 'old', 'katniss', 'everdeen', ',', 'who', 'lives', 'in', 'the', 'future', ',', 'post', '-', 'apocalyptic', 'nation', 'of', 'panem', 'in', 'north', 'america', '.', '<sep>']\n",
      "[['catching', 'fire', 'is', 'a', '2009', 'science', 'fiction', 'young', 'adult', 'novel', 'by', 'the', 'american', 'novelist', 'suzanne', 'collins', ',', 'the', 'second', 'book', 'in', '\"', 'the', 'hunger', 'games', 'trilogy', '\"', '.'], [' ', 'it', 'is', 'written', 'in', 'the', 'voice', 'of', '16-year', '-', 'old', 'katniss', 'everdeen', ',', 'who', 'lives', 'in', 'the', 'future', ',', 'post', '-', 'apocalyptic', 'nation', 'of', 'panem', 'in', 'north', 'america', '.']]\n",
      "========\n",
      "\n",
      "[' ', 'chang', 'was', 'born', 'when', 'korea', 'was', 'still', 'under', 'japanese', 'colonial', 'rule', '.', '<sep>', 'korea', 'under', 'japanese', 'rule', 'began', 'with', 'the', 'end', 'of', 'the', 'short', '-', 'lived', 'korean', 'empire', 'in', '1910', 'and', 'ended', 'at', 'the', 'conclusion', 'of', 'world', 'war', 'ii', 'in', '1945', '.', '<sep>']\n",
      "[[' ', 'chang', 'was', 'born', 'when', 'korea', 'was', 'still', 'under', 'japanese', 'colonial', 'rule', '.'], ['korea', 'under', 'japanese', 'rule', 'began', 'with', 'the', 'end', 'of', 'the', 'short', '-', 'lived', 'korean', 'empire', 'in', '1910', 'and', 'ended', 'at', 'the', 'conclusion', 'of', 'world', 'war', 'ii', 'in', '1945', '.']]\n",
      "========\n",
      "\n",
      "['the', 'quality', 'cafe', '(', 'also', 'known', 'as', 'quality', 'diner', ')', 'is', 'a', 'now', '-', 'defunct', 'diner', 'at', '1236', 'west', '7th', 'street', 'in', 'los', 'angeles', ',', 'california', '.', '<sep>', ' ', 'the', 'restaurant', 'ceased', 'to', 'function', 'as', 'a', 'diner', 'in', 'late', '2006', 'but', 'has', 'appeared', 'as', 'a', 'location', 'featured', 'in', 'a', 'number', 'of', 'hollywood', 'films', ',', 'including', '\"', 'training', 'day', '\"', ',', '\"', 'old', 'school', '\"', ',', '\"', 'se7en', '\"', ',', '\"', 'ghost', 'world', '\"', ',', '\"', 'gone', 'in', '60', 'seconds', '\"', ',', '\"', 'the', 'stepfather', '\"', ',', '\"', 'what', \"'s\", 'love', 'got', 'to', 'do', 'with', 'it', '\"', ',', '\"', 'sex', 'and', 'death', '101', '\"', ',', 'and', '\"', 'catch', 'me', 'if', 'you', 'can', '.', '\"', '<sep>', 'old', 'school', 'is', 'a', '2003', 'american', 'comedy', 'film', 'released', 'by', 'dreamworks', 'pictures', 'and', 'the', 'montecito', 'picture', 'company', 'and', 'directed', 'by', 'todd', 'phillips', '.', '<sep>']\n"
     ]
    },
    {
     "name": "stdout",
     "output_type": "stream",
     "text": [
      "[['the', 'quality', 'cafe', '(', 'also', 'known', 'as', 'quality', 'diner', ')', 'is', 'a', 'now', '-', 'defunct', 'diner', 'at', '1236', 'west', '7th', 'street', 'in', 'los', 'angeles', ',', 'california', '.'], [' ', 'the', 'restaurant', 'ceased', 'to', 'function', 'as', 'a', 'diner', 'in', 'late', '2006', 'but', 'has', 'appeared', 'as', 'a', 'location', 'featured', 'in', 'a', 'number', 'of', 'hollywood', 'films', ',', 'including', '\"', 'training', 'day', '\"', ',', '\"', 'old', 'school', '\"', ',', '\"', 'se7en', '\"', ',', '\"', 'ghost', 'world', '\"', ',', '\"', 'gone', 'in', '60', 'seconds', '\"', ',', '\"', 'the', 'stepfather', '\"', ',', '\"', 'what', \"'s\", 'love', 'got', 'to', 'do', 'with', 'it', '\"', ',', '\"', 'sex', 'and', 'death', '101', '\"', ',', 'and', '\"', 'catch', 'me', 'if', 'you', 'can', '.', '\"'], ['old', 'school', 'is', 'a', '2003', 'american', 'comedy', 'film', 'released', 'by', 'dreamworks', 'pictures', 'and', 'the', 'montecito', 'picture', 'company', 'and', 'directed', 'by', 'todd', 'phillips', '.']]\n",
      "========\n",
      "\n",
      "[' ', 'it', 'helped', 'jump', 'start', 'the', 'careers', 'of', 'several', 'young', 'performers', 'including', 'paul', 'lynde', ',', 'alice', 'ghostley', ',', 'eartha', 'kitt', ',', 'robert', 'clary', ',', 'carol', 'lawrence', ',', 'ronny', 'graham', ',', 'performer', '/', 'writer', 'mel', 'brooks', '(', 'as', 'melvin', 'brooks', ')', ',', 'and', 'lyricist', 'sheldon', 'harnick', '.', '<sep>', 'carol', 'lawrence', '(', 'born', 'september', '5', ',', '1932', ')', 'is', 'an', 'american', 'actress', ',', 'most', 'often', 'associated', 'with', 'musical', 'theatre', ',', 'but', 'who', 'has', 'also', 'appeared', 'extensively', 'on', 'television', '.', '<sep>']\n",
      "[[' ', 'it', 'helped', 'jump', 'start', 'the', 'careers', 'of', 'several', 'young', 'performers', 'including', 'paul', 'lynde', ',', 'alice', 'ghostley', ',', 'eartha', 'kitt', ',', 'robert', 'clary', ',', 'carol', 'lawrence', ',', 'ronny', 'graham', ',', 'performer', '/', 'writer', 'mel', 'brooks', '(', 'as', 'melvin', 'brooks', ')', ',', 'and', 'lyricist', 'sheldon', 'harnick', '.'], ['carol', 'lawrence', '(', 'born', 'september', '5', ',', '1932', ')', 'is', 'an', 'american', 'actress', ',', 'most', 'often', 'associated', 'with', 'musical', 'theatre', ',', 'but', 'who', 'has', 'also', 'appeared', 'extensively', 'on', 'television', '.']]\n",
      "========\n",
      "\n",
      "['pavel', 'samuilovich', 'urysohn', '(', 'па́вел', 'самуи́лович', 'урысо́н', ')', '(', 'february', '3', ',', '1898', '–', 'august', '17', ',', '1924', ')', 'was', 'a', 'soviet', 'mathematician', 'of', 'jewish', 'origin', 'who', 'is', 'best', 'known', 'for', 'his', 'contributions', 'in', 'dimension', 'theory', ',', 'and', 'for', 'developing', 'urysohn', \"'s\", 'metrization', 'theorem', 'and', 'urysohn', \"'s\", 'lemma', ',', 'both', 'of', 'which', 'are', 'fundamental', 'results', 'in', 'topology', '.', '<sep>', 'leonid', 'anatolievich', 'levin', '(', ';', 'russian', ':', 'леони́д', 'анато́льевич', 'ле́вин', ';', 'ukrainian', ':', 'леоні́д', 'анато́лійович', 'ле́він', ';', 'born', 'november', '2', ',', '1948', ')', 'is', 'a', 'soviet', '-', 'american', 'computer', 'scientist', '.', '<sep>']\n",
      "[['pavel', 'samuilovich', 'urysohn', '(', 'па́вел', 'самуи́лович', 'урысо́н', ')', '(', 'february', '3', ',', '1898', '–', 'august', '17', ',', '1924', ')', 'was', 'a', 'soviet', 'mathematician', 'of', 'jewish', 'origin', 'who', 'is', 'best', 'known', 'for', 'his', 'contributions', 'in', 'dimension', 'theory', ',', 'and', 'for', 'developing', 'urysohn', \"'s\", 'metrization', 'theorem', 'and', 'urysohn', \"'s\", 'lemma', ',', 'both', 'of', 'which', 'are', 'fundamental', 'results', 'in', 'topology', '.'], ['leonid', 'anatolievich', 'levin', '(', ';', 'russian', ':', 'леони́д', 'анато́льевич', 'ле́вин', ';', 'ukrainian', ':', 'леоні́д', 'анато́лійович', 'ле́він', ';', 'born', 'november', '2', ',', '1948', ')', 'is', 'a', 'soviet', '-', 'american', 'computer', 'scientist', '.']]\n",
      "========\n",
      "\n",
      "['the', 'new', 'pornographers', 'is', 'a', 'canadian', 'indie', 'rock', 'band', 'formed', 'in', '1997', 'in', 'vancouver', ',', 'british', 'columbia', '.', '<sep>', 'kings', 'of', 'leon', 'is', 'an', 'american', 'rock', 'band', 'that', 'formed', 'in', 'nashville', ',', 'tennessee', ',', 'in', '1999', '.', '<sep>']\n",
      "[['the', 'new', 'pornographers', 'is', 'a', 'canadian', 'indie', 'rock', 'band', 'formed', 'in', '1997', 'in', 'vancouver', ',', 'british', 'columbia', '.'], ['kings', 'of', 'leon', 'is', 'an', 'american', 'rock', 'band', 'that', 'formed', 'in', 'nashville', ',', 'tennessee', ',', 'in', '1999', '.']]\n",
      "========\n",
      "\n",
      "['750', 'seventh', 'avenue', 'is', 'a', '615', '\\xa0', 'ft', '(', '187', 'm', ')', 'tall', 'class', '-', 'a', 'office', 'skyscraper', 'in', 'new', 'york', 'city', '.', '<sep>', '101', 'park', 'avenue', 'is', 'a', '629', 'ft', 'tall', 'skyscraper', 'in', 'new', 'york', 'city', ',', 'new', 'york', '.', '<sep>']\n",
      "[['750', 'seventh', 'avenue', 'is', 'a', '615', '\\xa0', 'ft', '(', '187', 'm', ')', 'tall', 'class', '-', 'a', 'office', 'skyscraper', 'in', 'new', 'york', 'city', '.'], ['101', 'park', 'avenue', 'is', 'a', '629', 'ft', 'tall', 'skyscraper', 'in', 'new', 'york', 'city', ',', 'new', 'york', '.']]\n",
      "========\n",
      "\n",
      "['kimberly', 'ann', 'hart', 'is', 'a', 'fictitious', 'character', 'in', 'the', '\"', 'power', 'rangers', '\"', 'universe', '.', '<sep>', ' ', 'played', 'by', 'actress', 'amy', 'jo', 'johnson', 'during', 'the', 'first', 'three', 'seasons', 'of', 'the', 'show', ',', 'plus', 'on', 'the', 'two', 'feature', 'films', 'of', 'the', 'franchise', ',', 'kimberly', 'has', 'the', 'longest', 'tenure', 'of', 'any', 'female', 'ranger', 'in', 'the', 'series', \"'\", 'history', ',', 'and', 'fourth', 'overall', '.', '<sep>', 'power', 'rangers', 'is', 'an', 'american', 'entertainment', 'and', 'merchandising', 'franchise', 'built', 'around', 'a', 'live', 'action', 'superhero', 'television', 'series', '.', '<sep>', ' ', 'produced', 'first', 'by', 'saban', 'entertainment', ',', 'later', 'by', 'bvs', 'entertainment', ',', 'and', 'today', 'by', 'scg', 'power', 'rangers', ',', 'the', 'television', 'series', 'takes', 'much', 'of', 'its', 'footage', 'from', 'the', 'japanese', 'tokusatsu', '\"', 'super', 'sentai', '\"', ',', 'produced', 'by', 'toei', 'company', '.', '<sep>']\n",
      "[['kimberly', 'ann', 'hart', 'is', 'a', 'fictitious', 'character', 'in', 'the', '\"', 'power', 'rangers', '\"', 'universe', '.'], [' ', 'played', 'by', 'actress', 'amy', 'jo', 'johnson', 'during', 'the', 'first', 'three', 'seasons', 'of', 'the', 'show', ',', 'plus', 'on', 'the', 'two', 'feature', 'films', 'of', 'the', 'franchise', ',', 'kimberly', 'has', 'the', 'longest', 'tenure', 'of', 'any', 'female', 'ranger', 'in', 'the', 'series', \"'\", 'history', ',', 'and', 'fourth', 'overall', '.'], ['power', 'rangers', 'is', 'an', 'american', 'entertainment', 'and', 'merchandising', 'franchise', 'built', 'around', 'a', 'live', 'action', 'superhero', 'television', 'series', '.'], [' ', 'produced', 'first', 'by', 'saban', 'entertainment', ',', 'later', 'by', 'bvs', 'entertainment', ',', 'and', 'today', 'by', 'scg', 'power', 'rangers', ',', 'the', 'television', 'series', 'takes', 'much', 'of', 'its', 'footage', 'from', 'the', 'japanese', 'tokusatsu', '\"', 'super', 'sentai', '\"', ',', 'produced', 'by', 'toei', 'company', '.']]\n",
      "========\n",
      "\n",
      "['pablo', 'trapero', '(', 'born', '4', 'october', '1971', ')', 'is', 'an', 'argentine', 'film', 'producer', ',', 'editor', 'and', 'director', '.', '<sep>', 'aleksander', 'ford', '(', 'born', 'mosze', 'lifszyc', ';', '24', 'november', '1908', 'in', 'kiev', ',', 'russian', 'empire', '–', '4', 'april', '1980', 'in', 'naples', ',', 'florida', ',', 'united', 'states', ')', 'was', 'a', 'polish', 'jewish', 'film', 'director', ';', 'and', 'head', 'of', 'the', 'polish', 'people', \"'s\", 'army', 'film', 'crew', 'in', 'the', 'soviet', 'union', 'during', 'world', 'war', 'ii', '.', '<sep>']\n"
     ]
    },
    {
     "name": "stdout",
     "output_type": "stream",
     "text": [
      "[['pablo', 'trapero', '(', 'born', '4', 'october', '1971', ')', 'is', 'an', 'argentine', 'film', 'producer', ',', 'editor', 'and', 'director', '.'], ['aleksander', 'ford', '(', 'born', 'mosze', 'lifszyc', ';', '24', 'november', '1908', 'in', 'kiev', ',', 'russian', 'empire', '–', '4', 'april', '1980', 'in', 'naples', ',', 'florida', ',', 'united', 'states', ')', 'was', 'a', 'polish', 'jewish', 'film', 'director', ';', 'and', 'head', 'of', 'the', 'polish', 'people', \"'s\", 'army', 'film', 'crew', 'in', 'the', 'soviet', 'union', 'during', 'world', 'war', 'ii', '.']]\n",
      "========\n",
      "\n",
      "['jane', 'was', 'an', 'american', 'magazine', 'created', 'to', 'appeal', 'to', 'the', 'women', 'who', 'grew', 'up', 'reading', '\"', 'sassy', 'magazine', '\"', ';', 'jane', 'pratt', 'was', 'the', 'founding', 'editor', 'of', 'each', '.', '<sep>', 'first', 'for', 'women', 'is', 'a', 'woman', \"'s\", 'magazine', 'published', 'by', 'bauer', 'media', 'group', 'in', 'the', 'usa', '.', '<sep>']\n",
      "[['jane', 'was', 'an', 'american', 'magazine', 'created', 'to', 'appeal', 'to', 'the', 'women', 'who', 'grew', 'up', 'reading', '\"', 'sassy', 'magazine', '\"', ';', 'jane', 'pratt', 'was', 'the', 'founding', 'editor', 'of', 'each', '.'], ['first', 'for', 'women', 'is', 'a', 'woman', \"'s\", 'magazine', 'published', 'by', 'bauer', 'media', 'group', 'in', 'the', 'usa', '.']]\n",
      "========\n",
      "\n",
      "['nicholas', 'ray', '(', 'born', 'raymond', 'nicholas', 'kienzle', 'jr', '.', ',', 'august', '7', ',', '1911', '–', 'june', '16', ',', '1979', ')', 'was', 'an', 'american', 'film', 'director', 'best', 'known', 'for', 'the', 'movie', '\"', 'rebel', 'without', 'a', 'cause', '.', '\"', '<sep>', 'elia', 'kazan', '(', 'born', 'elias', 'kazantzoglou', 'september', '7', ',', '1909', '–', 'september', '28', ',', '2003', ')', 'was', 'a', 'greek', '-', 'american', 'director', ',', 'producer', ',', 'writer', 'and', 'actor', ',', 'described', 'by', '\"', 'the', 'new', 'york', 'times', '\"', 'as', '\"', 'one', 'of', 'the', 'most', 'honored', 'and', 'influential', 'directors', 'in', 'broadway', 'and', 'hollywood', 'history', '\"', '.', '<sep>']\n",
      "[['nicholas', 'ray', '(', 'born', 'raymond', 'nicholas', 'kienzle', 'jr', '.', ',', 'august', '7', ',', '1911', '–', 'june', '16', ',', '1979', ')', 'was', 'an', 'american', 'film', 'director', 'best', 'known', 'for', 'the', 'movie', '\"', 'rebel', 'without', 'a', 'cause', '.', '\"'], ['elia', 'kazan', '(', 'born', 'elias', 'kazantzoglou', 'september', '7', ',', '1909', '–', 'september', '28', ',', '2003', ')', 'was', 'a', 'greek', '-', 'american', 'director', ',', 'producer', ',', 'writer', 'and', 'actor', ',', 'described', 'by', '\"', 'the', 'new', 'york', 'times', '\"', 'as', '\"', 'one', 'of', 'the', 'most', 'honored', 'and', 'influential', 'directors', 'in', 'broadway', 'and', 'hollywood', 'history', '\"', '.']]\n",
      "========\n",
      "\n",
      "[' ', 'on', 'april', '11', ',', '2013', ',', 'us', 'based', 'polaris', 'industries', 'announced', 'that', 'it', 'had', 'acquired', 'aixam', '-', 'mega', '.', '<sep>', ' ', 'polaris', 'is', 'based', 'in', 'roseau', ',', 'minnesota', ',', 'usa', '.', '<sep>']\n",
      "[[' ', 'on', 'april', '11', ',', '2013', ',', 'us', 'based', 'polaris', 'industries', 'announced', 'that', 'it', 'had', 'acquired', 'aixam', '-', 'mega', '.'], [' ', 'polaris', 'is', 'based', 'in', 'roseau', ',', 'minnesota', ',', 'usa', '.']]\n",
      "========\n",
      "\n",
      "['adam', 'clayton', 'powell', 'is', 'a', '1989', 'american', 'documentary', 'film', 'directed', 'by', 'richard', 'kilberg', 'about', 'the', 'civil', 'rights', 'leader', '.', '<sep>', 'the', 'saimaa', 'gesture', '(', 'finnish', ':', '\"', 'saimaa', '-', 'ilmiö', '\"', ')', 'is', 'a', '1981', 'film', 'by', 'finnish', 'directors', 'aki', 'and', 'mika', 'kaurismäki', '.', '<sep>', ' ', 'it', 'is', 'a', 'documentary', 'of', 'three', 'finnish', 'rock', 'groups', 'aboard', 'the', 'steamboat', 'ss', 'heinävesi', 'on', 'their', 'tour', 'around', 'lake', 'saimaa', '.', '<sep>']\n",
      "[['adam', 'clayton', 'powell', 'is', 'a', '1989', 'american', 'documentary', 'film', 'directed', 'by', 'richard', 'kilberg', 'about', 'the', 'civil', 'rights', 'leader', '.'], ['the', 'saimaa', 'gesture', '(', 'finnish', ':', '\"', 'saimaa', '-', 'ilmiö', '\"', ')', 'is', 'a', '1981', 'film', 'by', 'finnish', 'directors', 'aki', 'and', 'mika', 'kaurismäki', '.'], [' ', 'it', 'is', 'a', 'documentary', 'of', 'three', 'finnish', 'rock', 'groups', 'aboard', 'the', 'steamboat', 'ss', 'heinävesi', 'on', 'their', 'tour', 'around', 'lake', 'saimaa', '.']]\n",
      "========\n",
      "\n",
      "['cia', 'berg', '(', 'born', '2', 'december', '1963', ')', ',', 'now', 'known', 'as', 'cia', 'soro', ',', 'is', 'a', 'swedish', 'television', 'presenter', 'and', 'singer', '.', '<sep>', ' ', 'she', 'was', 'at', 'one', 'time', 'the', 'lead', 'singer', 'of', 'the', 'swedish', 'rock', 'band', 'whale', ',', 'who', 'released', 'the', 'single', '\"', 'hobo', 'humpin', \"'\", 'slobo', 'babe', '\"', '.', '<sep>', 'david', 'lee', 'roth', '(', 'born', 'october', '10', ',', '1954', ')', 'is', 'an', 'american', 'rock', 'vocalist', ',', 'musician', ',', 'songwriter', ',', 'actor', ',', 'author', ',', 'and', 'former', 'radio', 'personality', '.', '<sep>', ' ', 'in', '2007', ',', 'he', 'was', 'inducted', 'into', 'the', 'rock', 'and', 'roll', 'hall', 'of', 'fame', '.', '<sep>']\n",
      "[['cia', 'berg', '(', 'born', '2', 'december', '1963', ')', ',', 'now', 'known', 'as', 'cia', 'soro', ',', 'is', 'a', 'swedish', 'television', 'presenter', 'and', 'singer', '.'], [' ', 'she', 'was', 'at', 'one', 'time', 'the', 'lead', 'singer', 'of', 'the', 'swedish', 'rock', 'band', 'whale', ',', 'who', 'released', 'the', 'single', '\"', 'hobo', 'humpin', \"'\", 'slobo', 'babe', '\"', '.'], ['david', 'lee', 'roth', '(', 'born', 'october', '10', ',', '1954', ')', 'is', 'an', 'american', 'rock', 'vocalist', ',', 'musician', ',', 'songwriter', ',', 'actor', ',', 'author', ',', 'and', 'former', 'radio', 'personality', '.'], [' ', 'in', '2007', ',', 'he', 'was', 'inducted', 'into', 'the', 'rock', 'and', 'roll', 'hall', 'of', 'fame', '.']]\n",
      "========\n",
      "\n",
      "[' ', 'it', 'has', 'a', 'sister', 'school', 'in', 'carle', 'place', ',', 'new', 'york', ',', 'united', 'states', '.', '<sep>', 'carle', 'place', 'middle', '/', 'high', 'school', 'is', 'a', 'six', '-', 'year', 'comprehensive', 'public', 'high', 'school', 'located', 'in', 'the', 'hamlet', 'of', 'carle', 'place', 'in', 'nassau', 'county', ',', 'new', 'york', '.', '<sep>']\n",
      "[[' ', 'it', 'has', 'a', 'sister', 'school', 'in', 'carle', 'place', ',', 'new', 'york', ',', 'united', 'states', '.'], ['carle', 'place', 'middle', '/', 'high', 'school', 'is', 'a', 'six', '-', 'year', 'comprehensive', 'public', 'high', 'school', 'located', 'in', 'the', 'hamlet', 'of', 'carle', 'place', 'in', 'nassau', 'county', ',', 'new', 'york', '.']]\n",
      "========\n",
      "\n",
      "['the', 'royal', 'commission', 'into', 'drug', 'trafficking', '(', '1977–1979', ')', 'or', 'woodward', 'royal', 'commission', 'was', 'a', 'royal', 'commission', 'initiated', 'by', 'the', 'new', 'south', 'wales', 'government', 'to', 'investigate', 'drug', 'trafficking', 'in', 'new', 'south', 'wales', ',', 'australia', ',', 'especially', 'links', 'between', 'the', 'mafia', 'and', 'new', 'south', 'wales', 'police', 'and', 'the', 'disappearance', 'of', 'anti', '-', 'marijuana', 'campaigner', 'donald', 'mackay', '.', '<sep>', 'the', 'honoured', 'society', '(', 'italian', ':', '\"', 'onorata', 'società', '\"', ')', 'is', 'a', 'calabrian', \"'\", 'ndrangheta', 'criminal', 'confederation', ',', 'started', 'in', 'melbourne', 'and', 'currently', 'active', 'in', 'all', 'australia', '.', '<sep>']\n"
     ]
    },
    {
     "name": "stdout",
     "output_type": "stream",
     "text": [
      "[['the', 'royal', 'commission', 'into', 'drug', 'trafficking', '(', '1977–1979', ')', 'or', 'woodward', 'royal', 'commission', 'was', 'a', 'royal', 'commission', 'initiated', 'by', 'the', 'new', 'south', 'wales', 'government', 'to', 'investigate', 'drug', 'trafficking', 'in', 'new', 'south', 'wales', ',', 'australia', ',', 'especially', 'links', 'between', 'the', 'mafia', 'and', 'new', 'south', 'wales', 'police', 'and', 'the', 'disappearance', 'of', 'anti', '-', 'marijuana', 'campaigner', 'donald', 'mackay', '.'], ['the', 'honoured', 'society', '(', 'italian', ':', '\"', 'onorata', 'società', '\"', ')', 'is', 'a', 'calabrian', \"'\", 'ndrangheta', 'criminal', 'confederation', ',', 'started', 'in', 'melbourne', 'and', 'currently', 'active', 'in', 'all', 'australia', '.']]\n",
      "========\n",
      "\n",
      "['the', '337th', 'flight', 'test', 'squadron', '(', '337', 'flts', ')', 'was', 'most', 'recently', 'part', 'of', 'the', '46th', 'test', 'wing', 'and', 'based', 'at', 'mcclellan', 'air', 'force', 'base', ',', 'california', '.', '<sep>', 'mcclellan', 'air', 'force', 'base', '(', '1935–2001', ')', 'is', 'a', 'former', 'united', 'states', 'air', 'force', 'base', 'located', 'in', 'the', 'north', 'highlands', 'area', 'of', 'sacramento', 'county', ',', '7', 'mi', 'northeast', 'of', 'sacramento', ',', 'california', '.', '<sep>']\n",
      "[['the', '337th', 'flight', 'test', 'squadron', '(', '337', 'flts', ')', 'was', 'most', 'recently', 'part', 'of', 'the', '46th', 'test', 'wing', 'and', 'based', 'at', 'mcclellan', 'air', 'force', 'base', ',', 'california', '.'], ['mcclellan', 'air', 'force', 'base', '(', '1935–2001', ')', 'is', 'a', 'former', 'united', 'states', 'air', 'force', 'base', 'located', 'in', 'the', 'north', 'highlands', 'area', 'of', 'sacramento', 'county', ',', '7', 'mi', 'northeast', 'of', 'sacramento', ',', 'california', '.']]\n",
      "========\n",
      "\n",
      "['the', 'pirna', '014', 'was', 'an', 'axial', 'turbojet', 'designed', 'in', 'east', 'germany', '(', 'or', 'the', 'gdr', ')', 'in', 'the', 'mid-', 'to', 'late', '1950s', 'by', 'former', 'junkers', 'engineers', ',', 'who', 'were', 'repatriated', 'to', 'east', 'germany', 'in', '1954', 'after', 'being', 'held', 'in', 'custody', 'in', 'the', 'soviet', 'union', 'following', 'world', 'war', 'ii', '.', '<sep>', 'junkers', 'flugzeug-', 'und', 'motorenwerke', 'ag', '(', 'jfm', ',', 'earlier', 'jco', 'or', 'jko', 'in', 'world', 'war', 'i', ')', ',', 'more', 'commonly', 'junkers', ',', 'was', 'a', 'major', 'german', 'aircraft', 'and', 'aircraft', 'engine', 'manufacturer', '.', '<sep>', ' ', 'it', 'produced', 'some', 'of', 'the', 'world', \"'s\", 'most', 'innovative', 'and', 'best', '-', 'known', 'airplanes', 'over', 'the', 'course', 'of', 'its', 'fifty', '-', 'plus', 'year', 'history', 'in', 'dessau', ',', 'germany', '.', '<sep>']\n",
      "[['the', 'pirna', '014', 'was', 'an', 'axial', 'turbojet', 'designed', 'in', 'east', 'germany', '(', 'or', 'the', 'gdr', ')', 'in', 'the', 'mid-', 'to', 'late', '1950s', 'by', 'former', 'junkers', 'engineers', ',', 'who', 'were', 'repatriated', 'to', 'east', 'germany', 'in', '1954', 'after', 'being', 'held', 'in', 'custody', 'in', 'the', 'soviet', 'union', 'following', 'world', 'war', 'ii', '.'], ['junkers', 'flugzeug-', 'und', 'motorenwerke', 'ag', '(', 'jfm', ',', 'earlier', 'jco', 'or', 'jko', 'in', 'world', 'war', 'i', ')', ',', 'more', 'commonly', 'junkers', ',', 'was', 'a', 'major', 'german', 'aircraft', 'and', 'aircraft', 'engine', 'manufacturer', '.'], [' ', 'it', 'produced', 'some', 'of', 'the', 'world', \"'s\", 'most', 'innovative', 'and', 'best', '-', 'known', 'airplanes', 'over', 'the', 'course', 'of', 'its', 'fifty', '-', 'plus', 'year', 'history', 'in', 'dessau', ',', 'germany', '.']]\n",
      "========\n",
      "\n",
      "['the', 'university', 'of', 'providence', '(', 'up', ')', '(', 'renamed', 'from', 'university', 'of', 'great', 'falls', 'in', 'july', '2017', ')', ',', 'is', 'a', 'private', 'roman', 'catholic', 'university', 'located', 'in', 'great', 'falls', ',', 'montana', 'within', 'the', 'diocese', 'of', 'great', 'falls', '–', 'billings', '.', '<sep>', ' ', 'the', 'university', 'is', 'accredited', 'by', 'the', 'northwest', 'association', 'of', 'schools', 'and', 'colleges', '.', '<sep>', 'great', 'falls', 'is', 'a', 'city', 'in', 'and', 'the', 'county', 'seat', 'of', 'cascade', 'county', ',', 'montana', ',', 'united', 'states', '.', '<sep>', ' ', 'great', 'falls', 'remained', 'the', 'second', 'largest', 'city', 'in', 'montana', 'until', '2000', ',', 'when', 'it', 'was', 'passed', 'by', 'missoula', '.', '<sep>', ' ', 'since', 'then', 'great', 'falls', 'has', 'been', 'the', 'third', 'largest', 'city', 'in', 'the', 'state', '.', '<sep>']\n",
      "[['the', 'university', 'of', 'providence', '(', 'up', ')', '(', 'renamed', 'from', 'university', 'of', 'great', 'falls', 'in', 'july', '2017', ')', ',', 'is', 'a', 'private', 'roman', 'catholic', 'university', 'located', 'in', 'great', 'falls', ',', 'montana', 'within', 'the', 'diocese', 'of', 'great', 'falls', '–', 'billings', '.'], [' ', 'the', 'university', 'is', 'accredited', 'by', 'the', 'northwest', 'association', 'of', 'schools', 'and', 'colleges', '.'], ['great', 'falls', 'is', 'a', 'city', 'in', 'and', 'the', 'county', 'seat', 'of', 'cascade', 'county', ',', 'montana', ',', 'united', 'states', '.'], [' ', 'great', 'falls', 'remained', 'the', 'second', 'largest', 'city', 'in', 'montana', 'until', '2000', ',', 'when', 'it', 'was', 'passed', 'by', 'missoula', '.'], [' ', 'since', 'then', 'great', 'falls', 'has', 'been', 'the', 'third', 'largest', 'city', 'in', 'the', 'state', '.']]\n",
      "========\n",
      "\n",
      "['pauline', 'henry', '(', 'born', '29', 'january', '1961', ')', 'is', 'a', 'british', 'jamaican', 'recording', 'artist', '.', '<sep>', ' ', 'she', 'was', 'the', 'vocalist', 'in', 'the', 'scottish', 'band', 'the', 'chimes', ',', 'best', 'known', 'for', 'their', '1990', 'cover', 'version', 'of', 'u2', \"'s\", '\"', 'i', 'still', 'have', \"n't\", 'found', 'what', 'i', \"'m\", 'looking', 'for', '\"', ',', 'between', '1988', 'and', '1991', '.', '<sep>', '\"', 'i', 'still', 'have', \"n't\", 'found', 'what', 'i', \"'m\", 'looking', 'for', '\"', 'is', 'a', 'song', 'by', 'irish', 'rock', 'band', 'u2', '.', '<sep>', ' ', 'it', 'is', 'the', 'second', 'track', 'from', 'their', '1987', 'album', '\"', 'the', 'joshua', 'tree', '\"', 'and', 'was', 'released', 'as', 'the', 'album', \"'s\", 'second', 'single', 'in', 'may', '1987', '.', '<sep>']\n",
      "[['pauline', 'henry', '(', 'born', '29', 'january', '1961', ')', 'is', 'a', 'british', 'jamaican', 'recording', 'artist', '.'], [' ', 'she', 'was', 'the', 'vocalist', 'in', 'the', 'scottish', 'band', 'the', 'chimes', ',', 'best', 'known', 'for', 'their', '1990', 'cover', 'version', 'of', 'u2', \"'s\", '\"', 'i', 'still', 'have', \"n't\", 'found', 'what', 'i', \"'m\", 'looking', 'for', '\"', ',', 'between', '1988', 'and', '1991', '.'], ['\"', 'i', 'still', 'have', \"n't\", 'found', 'what', 'i', \"'m\", 'looking', 'for', '\"', 'is', 'a', 'song', 'by', 'irish', 'rock', 'band', 'u2', '.'], [' ', 'it', 'is', 'the', 'second', 'track', 'from', 'their', '1987', 'album', '\"', 'the', 'joshua', 'tree', '\"', 'and', 'was', 'released', 'as', 'the', 'album', \"'s\", 'second', 'single', 'in', 'may', '1987', '.']]\n",
      "========\n",
      "\n",
      "[' ', 'all', 'tracks', 'were', 'recorded', 'at', 'tarquin', \"'s\", 'jungle', 'room', 'studios', 'in', 'new', 'paltz', '(', 'village', ')', ',', 'new', 'york', '.', '<sep>', 'new', 'paltz', 'is', 'a', 'village', 'in', 'ulster', 'county', 'located', 'in', 'the', 'u.s', '.', 'state', 'of', 'new', 'york', '.', '<sep>']\n",
      "[[' ', 'all', 'tracks', 'were', 'recorded', 'at', 'tarquin', \"'s\", 'jungle', 'room', 'studios', 'in', 'new', 'paltz', '(', 'village', ')', ',', 'new', 'york', '.'], ['new', 'paltz', 'is', 'a', 'village', 'in', 'ulster', 'county', 'located', 'in', 'the', 'u.s', '.', 'state', 'of', 'new', 'york', '.']]\n",
      "========\n",
      "\n"
     ]
    },
    {
     "name": "stdout",
     "output_type": "stream",
     "text": [
      "['\"', 'the', 'battle', '\"', 'is', 'a', 'song', 'by', 'american', 'country', 'music', 'artist', 'george', 'jones', '.', '<sep>', ' ', 'meanwhile', ',', 'the', 'single', '\"', 'golden', 'ring', ',', '\"', 'a', 'duet', 'with', 'his', 'estranged', 'ex', '-', 'wife', 'tammy', 'wynette', ',', 'became', 'a', '#', '1', 'hit', 'that', 'same', 'year', '.', '<sep>', 'tammy', 'wynette', '(', 'born', 'virginia', 'wynette', 'pugh', ';', 'may', '5', ',', '1942', '–', 'april', '6', ',', '1998', ')', 'was', 'an', 'american', 'country', 'music', 'singer', '-', 'songwriter', 'and', 'one', 'of', 'country', 'music', \"'s\", 'best', '-', 'known', 'artists', 'and', 'biggest', '-', 'selling', 'female', 'singers', '.', '<sep>']\n",
      "[['\"', 'the', 'battle', '\"', 'is', 'a', 'song', 'by', 'american', 'country', 'music', 'artist', 'george', 'jones', '.'], [' ', 'meanwhile', ',', 'the', 'single', '\"', 'golden', 'ring', ',', '\"', 'a', 'duet', 'with', 'his', 'estranged', 'ex', '-', 'wife', 'tammy', 'wynette', ',', 'became', 'a', '#', '1', 'hit', 'that', 'same', 'year', '.'], ['tammy', 'wynette', '(', 'born', 'virginia', 'wynette', 'pugh', ';', 'may', '5', ',', '1942', '–', 'april', '6', ',', '1998', ')', 'was', 'an', 'american', 'country', 'music', 'singer', '-', 'songwriter', 'and', 'one', 'of', 'country', 'music', \"'s\", 'best', '-', 'known', 'artists', 'and', 'biggest', '-', 'selling', 'female', 'singers', '.']]\n",
      "========\n",
      "\n",
      "['sir', 'francis', 'nethersole', '(', '1587–1659', ')', 'was', 'an', 'english', 'diplomat', ',', 'secretary', 'to', 'the', 'electress', 'elizabeth', ',', 'member', 'of', 'parliament', 'for', 'corfe', 'castle', ',', 'dorset', ',', 'and', 'a', 'civil', 'war', 'political', 'pamphleteer', '.', '<sep>', 'elizabeth', 'stuart', '(', '19', 'august', '1596', '–', '13', 'february', '1662', ')', 'was', 'electress', 'of', 'the', 'palatinate', 'and', 'briefly', 'queen', 'of', 'bohemia', 'as', 'the', 'wife', 'of', 'frederick', 'v', 'of', 'the', 'palatinate', '.', '<sep>']\n",
      "[['sir', 'francis', 'nethersole', '(', '1587–1659', ')', 'was', 'an', 'english', 'diplomat', ',', 'secretary', 'to', 'the', 'electress', 'elizabeth', ',', 'member', 'of', 'parliament', 'for', 'corfe', 'castle', ',', 'dorset', ',', 'and', 'a', 'civil', 'war', 'political', 'pamphleteer', '.'], ['elizabeth', 'stuart', '(', '19', 'august', '1596', '–', '13', 'february', '1662', ')', 'was', 'electress', 'of', 'the', 'palatinate', 'and', 'briefly', 'queen', 'of', 'bohemia', 'as', 'the', 'wife', 'of', 'frederick', 'v', 'of', 'the', 'palatinate', '.']]\n",
      "========\n",
      "\n",
      "['hacker', '-', 'pschorr', 'is', 'a', 'brewery', 'in', 'munich', ',', 'formed', 'in', '1972', 'out', 'of', 'the', 'merger', 'of', 'two', 'breweries', ',', 'hacker', 'and', 'pschorr', '.', '<sep>', 'the', 'reinheitsgebot', '(', ']', ',', 'literally', '\"', 'purity', 'order', '\"', ')', ',', 'sometimes', 'called', 'the', '\"', 'german', 'beer', 'purity', 'law', '\"', 'in', 'english', ',', 'is', 'the', 'collective', 'name', 'for', 'a', 'series', 'of', 'regulations', 'limiting', 'the', 'ingredients', 'in', 'beer', 'in', 'germany', 'and', 'the', 'states', 'of', 'the', 'former', 'holy', 'roman', 'empire', '.', '<sep>', ' ', 'the', 'best', '-', 'known', 'version', 'of', 'the', 'law', 'was', 'adopted', 'in', 'bavaria', 'in', '1516', ',', 'but', 'similar', 'regulations', 'predate', 'the', 'bavarian', 'order', ',', 'and', 'modern', 'regulations', 'also', 'significantly', 'differ', 'from', 'the', '1516', 'bavarian', 'version', '.', '<sep>']\n",
      "[['hacker', '-', 'pschorr', 'is', 'a', 'brewery', 'in', 'munich', ',', 'formed', 'in', '1972', 'out', 'of', 'the', 'merger', 'of', 'two', 'breweries', ',', 'hacker', 'and', 'pschorr', '.'], ['the', 'reinheitsgebot', '(', ']', ',', 'literally', '\"', 'purity', 'order', '\"', ')', ',', 'sometimes', 'called', 'the', '\"', 'german', 'beer', 'purity', 'law', '\"', 'in', 'english', ',', 'is', 'the', 'collective', 'name', 'for', 'a', 'series', 'of', 'regulations', 'limiting', 'the', 'ingredients', 'in', 'beer', 'in', 'germany', 'and', 'the', 'states', 'of', 'the', 'former', 'holy', 'roman', 'empire', '.'], [' ', 'the', 'best', '-', 'known', 'version', 'of', 'the', 'law', 'was', 'adopted', 'in', 'bavaria', 'in', '1516', ',', 'but', 'similar', 'regulations', 'predate', 'the', 'bavarian', 'order', ',', 'and', 'modern', 'regulations', 'also', 'significantly', 'differ', 'from', 'the', '1516', 'bavarian', 'version', '.']]\n",
      "========\n",
      "\n",
      "[' ', 'associates', 'of', 'psi', 'include', ':', 'mathew', 'atha', ',', 'colin', 'angus', ',', 'brian', 'barritt', ',', 'michael', 'carmichael', ',', 'fraser', 'clark', ',', 'paul', 'devereux', ',', 'the', 'late', 'john', 'entwistle', ',', 'paul', 'flynn', 'mp', ',', 'ben', 'ganly', ',', 'lee', 'harris', ',', 'mike', 'jay', ',', 'howard', 'marks', ',', 'dr', 'john', 'marks', ',', 'jonathan', 'ott', ',', 'dr', 'russell', 'newcombe', ',', 'richard', 'rudgley', 'and', 'youth', '.', '<sep>', 'dennis', 'howard', 'marks', '(', '13', 'august', '1945', '–', '10', 'april', '2016', ')', 'was', 'a', 'welsh', 'drug', 'smuggler', 'and', 'author', 'who', 'achieved', 'notoriety', 'as', 'an', 'international', 'cannabis', 'smuggler', 'through', 'high', '-', 'profile', 'court', 'cases', '.', '<sep>']\n",
      "[[' ', 'associates', 'of', 'psi', 'include', ':', 'mathew', 'atha', ',', 'colin', 'angus', ',', 'brian', 'barritt', ',', 'michael', 'carmichael', ',', 'fraser', 'clark', ',', 'paul', 'devereux', ',', 'the', 'late', 'john', 'entwistle', ',', 'paul', 'flynn', 'mp', ',', 'ben', 'ganly', ',', 'lee', 'harris', ',', 'mike', 'jay', ',', 'howard', 'marks', ',', 'dr', 'john', 'marks', ',', 'jonathan', 'ott', ',', 'dr', 'russell', 'newcombe', ',', 'richard', 'rudgley', 'and', 'youth', '.'], ['dennis', 'howard', 'marks', '(', '13', 'august', '1945', '–', '10', 'april', '2016', ')', 'was', 'a', 'welsh', 'drug', 'smuggler', 'and', 'author', 'who', 'achieved', 'notoriety', 'as', 'an', 'international', 'cannabis', 'smuggler', 'through', 'high', '-', 'profile', 'court', 'cases', '.']]\n",
      "========\n",
      "\n",
      "['the', 'messenger', 'is', 'a', '2015', 'british', 'supernatural', 'mystery', 'horror', 'film', 'directed', 'by', 'david', 'blair', ',', 'written', 'by', 'andrew', 'kirk', 'and', 'starring', 'robert', 'sheehan', 'and', 'lily', 'cole', '.', '<sep>', 'robert', 'michael', 'sheehan', '(', 'irish', ':', '\"', 'roibeárd', 'mícheál', 'ó', 'siodhacháin', '\"', ';', 'born', '7', 'january', '1988', ')', 'is', 'an', 'irish', 'actor', '.', '<sep>']\n",
      "[['the', 'messenger', 'is', 'a', '2015', 'british', 'supernatural', 'mystery', 'horror', 'film', 'directed', 'by', 'david', 'blair', ',', 'written', 'by', 'andrew', 'kirk', 'and', 'starring', 'robert', 'sheehan', 'and', 'lily', 'cole', '.'], ['robert', 'michael', 'sheehan', '(', 'irish', ':', '\"', 'roibeárd', 'mícheál', 'ó', 'siodhacháin', '\"', ';', 'born', '7', 'january', '1988', ')', 'is', 'an', 'irish', 'actor', '.']]\n",
      "========\n",
      "\n",
      "['a', 'gin', 'and', 'tonic', 'is', 'a', 'highball', 'cocktail', 'made', 'with', 'gin', 'and', 'tonic', 'water', 'poured', 'over', 'ice', '.', '<sep>', 'the', 'paloma', '(', 'spanish', 'for', '\"', 'dove', '\"', ')', 'is', 'a', 'tequila', '-', 'based', 'cocktail', '.', '<sep>']\n",
      "[['a', 'gin', 'and', 'tonic', 'is', 'a', 'highball', 'cocktail', 'made', 'with', 'gin', 'and', 'tonic', 'water', 'poured', 'over', 'ice', '.'], ['the', 'paloma', '(', 'spanish', 'for', '\"', 'dove', '\"', ')', 'is', 'a', 'tequila', '-', 'based', 'cocktail', '.']]\n",
      "========\n",
      "\n",
      "['glenn', 'hughes', '(', 'born', '21', 'august', '1951', ')', 'is', 'an', 'english', 'rock', 'bassist', 'and', 'vocalist', ',', 'best', 'known', 'for', 'playing', 'bass', 'and', 'performing', 'vocals', 'for', 'funk', 'rock', 'pioneers', 'trapeze', ',', 'the', 'mk', '.', '<sep>', 'ross', 'shor', 'lynch', '(', 'born', 'december', '29', ',', '1995', ')', 'is', 'an', 'american', 'singer', ',', 'songwriter', ',', 'and', 'actor', '.', '<sep>']\n"
     ]
    },
    {
     "name": "stdout",
     "output_type": "stream",
     "text": [
      "[['glenn', 'hughes', '(', 'born', '21', 'august', '1951', ')', 'is', 'an', 'english', 'rock', 'bassist', 'and', 'vocalist', ',', 'best', 'known', 'for', 'playing', 'bass', 'and', 'performing', 'vocals', 'for', 'funk', 'rock', 'pioneers', 'trapeze', ',', 'the', 'mk', '.'], ['ross', 'shor', 'lynch', '(', 'born', 'december', '29', ',', '1995', ')', 'is', 'an', 'american', 'singer', ',', 'songwriter', ',', 'and', 'actor', '.']]\n",
      "========\n",
      "\n",
      "['\"', 'the', 'simpsons', '\"', 'theme', '\"', ',', 'also', 'referred', 'to', 'as', '\"', 'the', 'simpsons', '\"', 'main', 'title', 'theme', '\"', 'in', 'album', 'releases', ',', 'is', 'the', 'theme', 'music', 'of', 'the', 'animated', 'television', 'series', '\"', 'the', 'simpsons', '\"', '.', '<sep>', ' ', 'the', 'theme', ',', 'as', 'used', 'for', 'the', 'opening', 'sequence', ',', 'was', 're', '-', 'arranged', 'during', 'season', '2', ',', 'and', 'the', 'current', 'arrangement', 'by', 'alf', 'clausen', 'was', 'introduced', 'at', 'the', 'beginning', 'of', 'the', 'third', 'season', '.', '<sep>', 'alf', 'heiberg', 'clausen', '(', 'born', 'march', '28', ',', '1941', ')', 'is', 'an', 'american', 'film', 'and', 'television', 'composer', '.', '<sep>']\n",
      "[['\"', 'the', 'simpsons', '\"', 'theme', '\"', ',', 'also', 'referred', 'to', 'as', '\"', 'the', 'simpsons', '\"', 'main', 'title', 'theme', '\"', 'in', 'album', 'releases', ',', 'is', 'the', 'theme', 'music', 'of', 'the', 'animated', 'television', 'series', '\"', 'the', 'simpsons', '\"', '.'], [' ', 'the', 'theme', ',', 'as', 'used', 'for', 'the', 'opening', 'sequence', ',', 'was', 're', '-', 'arranged', 'during', 'season', '2', ',', 'and', 'the', 'current', 'arrangement', 'by', 'alf', 'clausen', 'was', 'introduced', 'at', 'the', 'beginning', 'of', 'the', 'third', 'season', '.'], ['alf', 'heiberg', 'clausen', '(', 'born', 'march', '28', ',', '1941', ')', 'is', 'an', 'american', 'film', 'and', 'television', 'composer', '.']]\n",
      "========\n",
      "\n",
      "['the', 'southern', 'railway', '(', 'german', ':', '\"', 'südbahn', '\"', ')', 'is', 'a', 'railway', 'in', 'austria', 'that', 'runs', 'from', 'vienna', 'to', 'graz', 'and', 'the', 'border', 'with', 'slovenia', 'at', 'spielfeld', 'via', 'semmering', 'and', 'bruck', 'an', 'der', 'mur', '.', '<sep>', 'the', 'semmering', 'railway', '(', 'german', ':', '\"', 'semmeringbahn', '\"', ')', 'in', 'austria', ',', 'which', 'starts', 'at', 'gloggnitz', 'and', 'leads', 'over', 'the', 'semmering', 'to', 'mürzzuschlag', 'was', 'the', 'first', 'mountain', 'railway', 'in', 'europe', 'built', 'with', 'a', 'standard', 'gauge', 'track', '.', '<sep>']\n",
      "[['the', 'southern', 'railway', '(', 'german', ':', '\"', 'südbahn', '\"', ')', 'is', 'a', 'railway', 'in', 'austria', 'that', 'runs', 'from', 'vienna', 'to', 'graz', 'and', 'the', 'border', 'with', 'slovenia', 'at', 'spielfeld', 'via', 'semmering', 'and', 'bruck', 'an', 'der', 'mur', '.'], ['the', 'semmering', 'railway', '(', 'german', ':', '\"', 'semmeringbahn', '\"', ')', 'in', 'austria', ',', 'which', 'starts', 'at', 'gloggnitz', 'and', 'leads', 'over', 'the', 'semmering', 'to', 'mürzzuschlag', 'was', 'the', 'first', 'mountain', 'railway', 'in', 'europe', 'built', 'with', 'a', 'standard', 'gauge', 'track', '.']]\n",
      "========\n",
      "\n",
      "[' ', 'nixon', 'received', 'an', 'emmy', 'award', 'and', 'a', 'screen', 'actors', 'guild', 'award', 'for', 'her', 'performance', '.', '<sep>', ' ', 'she', 'is', 'known', 'for', 'her', 'portrayal', 'of', 'miranda', 'hobbes', 'in', 'the', 'hbo', 'series', ',', '\"', 'sex', 'and', 'the', 'city', '\"', '(', '1998–2004', ')', ',', 'for', 'which', 'she', 'won', 'the', '2004', 'primetime', 'emmy', 'award', 'for', 'outstanding', 'supporting', 'actress', 'in', 'a', 'comedy', 'series', '.', '<sep>']\n",
      "[[' ', 'nixon', 'received', 'an', 'emmy', 'award', 'and', 'a', 'screen', 'actors', 'guild', 'award', 'for', 'her', 'performance', '.'], [' ', 'she', 'is', 'known', 'for', 'her', 'portrayal', 'of', 'miranda', 'hobbes', 'in', 'the', 'hbo', 'series', ',', '\"', 'sex', 'and', 'the', 'city', '\"', '(', '1998–2004', ')', ',', 'for', 'which', 'she', 'won', 'the', '2004', 'primetime', 'emmy', 'award', 'for', 'outstanding', 'supporting', 'actress', 'in', 'a', 'comedy', 'series', '.']]\n",
      "========\n",
      "\n",
      "['kato', '(', '加藤', ')', 'is', 'a', 'fictional', 'character', 'from', '\"', 'the', 'green', 'hornet', '\"', 'series', '.', '<sep>', ' ', 'keye', 'luke', 'took', 'the', 'role', 'in', 'the', 'movie', 'serials', ',', 'and', 'in', 'the', 'television', 'series', 'he', 'was', 'portrayed', 'by', 'bruce', 'lee', '.', '<sep>', 'lee', 'jun', '-', 'fan', '(;', 'november', '27', ',', '1940', '\\xa0', '–', 'july', '20', ',', '1973', ')', ',', 'known', 'professionally', 'as', 'bruce', 'lee', ',', 'was', 'a', 'hong', 'kong', 'and', 'american', 'actor', ',', 'film', 'director', ',', 'martial', 'artist', ',', 'martial', 'arts', 'instructor', ',', 'philosopher', 'and', 'founder', 'of', 'the', 'martial', 'art', 'jeet', 'kune', 'do', '.', '<sep>']\n",
      "[['kato', '(', '加藤', ')', 'is', 'a', 'fictional', 'character', 'from', '\"', 'the', 'green', 'hornet', '\"', 'series', '.'], [' ', 'keye', 'luke', 'took', 'the', 'role', 'in', 'the', 'movie', 'serials', ',', 'and', 'in', 'the', 'television', 'series', 'he', 'was', 'portrayed', 'by', 'bruce', 'lee', '.'], ['lee', 'jun', '-', 'fan', '(;', 'november', '27', ',', '1940', '\\xa0', '–', 'july', '20', ',', '1973', ')', ',', 'known', 'professionally', 'as', 'bruce', 'lee', ',', 'was', 'a', 'hong', 'kong', 'and', 'american', 'actor', ',', 'film', 'director', ',', 'martial', 'artist', ',', 'martial', 'arts', 'instructor', ',', 'philosopher', 'and', 'founder', 'of', 'the', 'martial', 'art', 'jeet', 'kune', 'do', '.']]\n",
      "========\n",
      "\n",
      "[' ', 'their', 'goodison', 'park', 'home', 'hosted', 'the', 'drawn', 'semi', 'final', 'between', 'wednesday', 'and', 'bolton', 'wanderers', '.', '<sep>', 'goodison', 'park', 'is', 'a', 'football', 'stadium', 'located', 'in', 'walton', ',', 'liverpool', ',', 'england', '.', '<sep>']\n",
      "[[' ', 'their', 'goodison', 'park', 'home', 'hosted', 'the', 'drawn', 'semi', 'final', 'between', 'wednesday', 'and', 'bolton', 'wanderers', '.'], ['goodison', 'park', 'is', 'a', 'football', 'stadium', 'located', 'in', 'walton', ',', 'liverpool', ',', 'england', '.']]\n",
      "========\n",
      "\n",
      "['the', 'a', 'head', 'full', 'of', 'dreams', 'tour', 'is', 'the', 'seventh', 'concert', 'tour', 'currently', 'being', 'undertaken', 'by', 'british', 'alternative', 'rock', 'band', 'coldplay', ',', 'launched', 'in', 'support', 'of', 'their', 'namesake', 'seventh', 'studio', 'album', '\"', 'a', 'head', 'full', 'of', 'dreams', '\"', '.', '<sep>', ' ', 'the', 'first', 'show', 'of', 'the', 'tour', 'was', 'held', 'at', 'the', 'estadio', 'ciudad', 'de', 'la', 'plata', 'in', 'la', 'plata', ',', 'argentina', ',', 'on', '31', 'march', '2016', 'and', 'is', 'set', 'to', 'conclude', 'at', 'the', 'same', 'venue', 'on', '15', 'november', '2017', '.', '<sep>', ' ', 'it', 'is', 'also', 'known', 'popularly', 'as', 'the', 'estadio', 'único', 'and', 'is', 'owned', 'by', 'the', 'province', 'of', 'buenos', 'aires', ',', 'administered', 'jointly', 'by', 'the', 'provincial', 'government', ',', 'the', 'municipality', 'of', 'la', 'plata', ',', 'and', 'the', 'football', 'clubs', 'estudiantes', 'de', 'la', 'plata', 'and', 'gimnasia', 'y', 'esgrima', 'de', 'la', 'plata', '.', '<sep>']\n"
     ]
    },
    {
     "name": "stdout",
     "output_type": "stream",
     "text": [
      "[['the', 'a', 'head', 'full', 'of', 'dreams', 'tour', 'is', 'the', 'seventh', 'concert', 'tour', 'currently', 'being', 'undertaken', 'by', 'british', 'alternative', 'rock', 'band', 'coldplay', ',', 'launched', 'in', 'support', 'of', 'their', 'namesake', 'seventh', 'studio', 'album', '\"', 'a', 'head', 'full', 'of', 'dreams', '\"', '.'], [' ', 'the', 'first', 'show', 'of', 'the', 'tour', 'was', 'held', 'at', 'the', 'estadio', 'ciudad', 'de', 'la', 'plata', 'in', 'la', 'plata', ',', 'argentina', ',', 'on', '31', 'march', '2016', 'and', 'is', 'set', 'to', 'conclude', 'at', 'the', 'same', 'venue', 'on', '15', 'november', '2017', '.'], [' ', 'it', 'is', 'also', 'known', 'popularly', 'as', 'the', 'estadio', 'único', 'and', 'is', 'owned', 'by', 'the', 'province', 'of', 'buenos', 'aires', ',', 'administered', 'jointly', 'by', 'the', 'provincial', 'government', ',', 'the', 'municipality', 'of', 'la', 'plata', ',', 'and', 'the', 'football', 'clubs', 'estudiantes', 'de', 'la', 'plata', 'and', 'gimnasia', 'y', 'esgrima', 'de', 'la', 'plata', '.']]\n",
      "========\n",
      "\n",
      "[' ', 'he', 'wrote', 'the', 'screenplays', 'for', '\"', 'silent', 'hill', '\"', 'and', '\"', 'beowulf', '\"', '.', '<sep>', 'beowulf', 'is', 'a', '2007', 'british', '-', 'american', '3d', 'motion', 'capture', 'epic', 'fantasy', 'film', 'directed', 'by', 'robert', 'zemeckis', 'and', 'written', 'by', 'neil', 'gaiman', 'and', 'roger', 'avary', ',', 'based', 'on', 'the', 'old', 'english', 'epic', 'poem', 'of', 'the', 'same', 'name', '.', '<sep>']\n",
      "[[' ', 'he', 'wrote', 'the', 'screenplays', 'for', '\"', 'silent', 'hill', '\"', 'and', '\"', 'beowulf', '\"', '.'], ['beowulf', 'is', 'a', '2007', 'british', '-', 'american', '3d', 'motion', 'capture', 'epic', 'fantasy', 'film', 'directed', 'by', 'robert', 'zemeckis', 'and', 'written', 'by', 'neil', 'gaiman', 'and', 'roger', 'avary', ',', 'based', 'on', 'the', 'old', 'english', 'epic', 'poem', 'of', 'the', 'same', 'name', '.']]\n",
      "========\n",
      "\n",
      "['hat', 'check', 'girl', 'is', 'a', '1932', 'american', 'pre', '-', 'code', 'comedy', 'film', 'directed', 'by', 'sidney', 'lanfield', 'and', 'written', 'by', 'barry', 'conners', 'and', 'philip', 'klein', '.', '<sep>', ' ', 'the', 'film', 'stars', 'sally', 'eilers', ',', 'ben', 'lyon', ',', 'ginger', 'rogers', 'and', 'monroe', 'owsley', '.', '<sep>', 'ginger', 'rogers', '(', 'born', 'virginia', 'katherine', 'mcmath', ';', 'july', '16', ',', '1911', '–', 'april', '25', ',', '1995', ')', 'was', 'an', 'american', 'actress', ',', 'dancer', ',', 'and', 'singer', ',', 'widely', 'known', 'for', 'performing', 'in', 'films', 'and', 'rko', \"'s\", 'musical', 'films', ',', 'partnered', 'with', 'fred', 'astaire', '.', '<sep>']\n",
      "[['hat', 'check', 'girl', 'is', 'a', '1932', 'american', 'pre', '-', 'code', 'comedy', 'film', 'directed', 'by', 'sidney', 'lanfield', 'and', 'written', 'by', 'barry', 'conners', 'and', 'philip', 'klein', '.'], [' ', 'the', 'film', 'stars', 'sally', 'eilers', ',', 'ben', 'lyon', ',', 'ginger', 'rogers', 'and', 'monroe', 'owsley', '.'], ['ginger', 'rogers', '(', 'born', 'virginia', 'katherine', 'mcmath', ';', 'july', '16', ',', '1911', '–', 'april', '25', ',', '1995', ')', 'was', 'an', 'american', 'actress', ',', 'dancer', ',', 'and', 'singer', ',', 'widely', 'known', 'for', 'performing', 'in', 'films', 'and', 'rko', \"'s\", 'musical', 'films', ',', 'partnered', 'with', 'fred', 'astaire', '.']]\n",
      "========\n",
      "\n",
      "['\"', 'just', 'the', 'two', 'of', 'us', '\"', 'is', 'a', '1981', 'r&b', 'single', 'written', 'by', 'bill', 'withers', ',', 'william', 'salter', 'and', 'ralph', 'macdonald', ',', 'which', 'was', 'recorded', 'by', 'grover', 'washington', 'jr', '.', 'and', 'bill', 'withers', '.', '<sep>', ' ', 'an', 'edited', 'version', 'reached', 'number', 'two', 'on', 'the', '\"', 'billboard', '\"', 'hot', '100', ',', 'staying', 'there', 'for', '3', 'weeks', ',', 'behind', '\"', 'morning', 'train', '(', '9', 'to', '5', ')', '\"', 'by', 'sheena', 'easton', 'and', '\"', 'bette', 'davis', 'eyes', '\"', 'by', 'kim', 'carnes', '.', '<sep>', '\"', 'bette', 'davis', 'eyes', '\"', 'is', 'a', 'song', 'written', 'and', 'composed', 'by', 'donna', 'weiss', 'and', 'jackie', 'deshannon', ',', 'and', 'made', 'popular', 'by', 'american', 'singer', 'kim', 'carnes', '.', '<sep>', ' ', 'deshannon', 'recorded', 'it', 'in', '1974', ';', 'carnes', \"'s\", '1981', 'version', 'spent', 'nine', 'weeks', 'at', 'no', '.', '1', 'on', 'the', '\"', 'billboard', '\"', 'hot', '100', 'and', 'was', '\"', 'billboard', '\"', \"'\", 's', 'biggest', 'hit', 'of', '1981', '.', '<sep>']\n",
      "[['\"', 'just', 'the', 'two', 'of', 'us', '\"', 'is', 'a', '1981', 'r&b', 'single', 'written', 'by', 'bill', 'withers', ',', 'william', 'salter', 'and', 'ralph', 'macdonald', ',', 'which', 'was', 'recorded', 'by', 'grover', 'washington', 'jr', '.', 'and', 'bill', 'withers', '.'], [' ', 'an', 'edited', 'version', 'reached', 'number', 'two', 'on', 'the', '\"', 'billboard', '\"', 'hot', '100', ',', 'staying', 'there', 'for', '3', 'weeks', ',', 'behind', '\"', 'morning', 'train', '(', '9', 'to', '5', ')', '\"', 'by', 'sheena', 'easton', 'and', '\"', 'bette', 'davis', 'eyes', '\"', 'by', 'kim', 'carnes', '.'], ['\"', 'bette', 'davis', 'eyes', '\"', 'is', 'a', 'song', 'written', 'and', 'composed', 'by', 'donna', 'weiss', 'and', 'jackie', 'deshannon', ',', 'and', 'made', 'popular', 'by', 'american', 'singer', 'kim', 'carnes', '.'], [' ', 'deshannon', 'recorded', 'it', 'in', '1974', ';', 'carnes', \"'s\", '1981', 'version', 'spent', 'nine', 'weeks', 'at', 'no', '.', '1', 'on', 'the', '\"', 'billboard', '\"', 'hot', '100', 'and', 'was', '\"', 'billboard', '\"', \"'\", 's', 'biggest', 'hit', 'of', '1981', '.']]\n",
      "========\n",
      "\n",
      "['saint', 'motel', 'is', 'an', 'american', 'indie', 'pop', 'band', 'from', 'los', 'angeles', ',', 'whose', 'music', 'has', 'been', 'described', 'as', 'everything', 'from', '\"', 'dream', 'pop', '\"', 'to', '\"', 'indie', 'prog', '\"', '.', '<sep>', ' ', 'the', 'band', 'consists', 'of', 'a', '/', 'j', 'jackson', '(', 'lead', 'vocals', ',', 'guitar', ',', 'piano', ')', ',', 'aaron', 'sharp', '(', 'lead', 'guitar', ')', ',', 'dak', 'lerdamornpong', '(', 'bass', ')', ',', 'and', 'greg', 'erwin', '(', 'drums', ')', '.', '<sep>', ' ', 'the', 'band', 'consisted', 'of', 'toni', 'halliday', '(', 'vocals', ',', 'occasionally', 'guitar', ')', 'and', 'dean', 'garcia', '(', 'bass', ',', 'guitar', ',', 'drums', ',', 'programming', ')', '.', '<sep>']\n",
      "[['saint', 'motel', 'is', 'an', 'american', 'indie', 'pop', 'band', 'from', 'los', 'angeles', ',', 'whose', 'music', 'has', 'been', 'described', 'as', 'everything', 'from', '\"', 'dream', 'pop', '\"', 'to', '\"', 'indie', 'prog', '\"', '.'], [' ', 'the', 'band', 'consists', 'of', 'a', '/', 'j', 'jackson', '(', 'lead', 'vocals', ',', 'guitar', ',', 'piano', ')', ',', 'aaron', 'sharp', '(', 'lead', 'guitar', ')', ',', 'dak', 'lerdamornpong', '(', 'bass', ')', ',', 'and', 'greg', 'erwin', '(', 'drums', ')', '.'], [' ', 'the', 'band', 'consisted', 'of', 'toni', 'halliday', '(', 'vocals', ',', 'occasionally', 'guitar', ')', 'and', 'dean', 'garcia', '(', 'bass', ',', 'guitar', ',', 'drums', ',', 'programming', ')', '.']]\n",
      "========\n",
      "\n",
      "[' ', '\"', 'funnybot', '\"', 'premiered', 'in', 'the', 'united', 'states', 'on', 'comedy', 'central', 'on', 'may', '4', ',', '2011', ',', 'the', 'first', 'time', 'a', '\"', 'south', 'park', '\"', 'episode', 'has', 'aired', 'in', 'may', 'since', 'season', '10', \"'s\", '\"', 'tsst', '\"', 'in', '2006', '.', '<sep>', 'the', 'tenth', 'season', 'of', '\"', 'south', 'park', '\"', ',', 'an', 'american', 'animated', 'television', 'series', 'created', 'by', 'trey', 'parker', 'and', 'matt', 'stone', ',', 'began', 'airing', 'on', 'march', '22', ',', '2006', '.', '<sep>']\n",
      "[[' ', '\"', 'funnybot', '\"', 'premiered', 'in', 'the', 'united', 'states', 'on', 'comedy', 'central', 'on', 'may', '4', ',', '2011', ',', 'the', 'first', 'time', 'a', '\"', 'south', 'park', '\"', 'episode', 'has', 'aired', 'in', 'may', 'since', 'season', '10', \"'s\", '\"', 'tsst', '\"', 'in', '2006', '.'], ['the', 'tenth', 'season', 'of', '\"', 'south', 'park', '\"', ',', 'an', 'american', 'animated', 'television', 'series', 'created', 'by', 'trey', 'parker', 'and', 'matt', 'stone', ',', 'began', 'airing', 'on', 'march', '22', ',', '2006', '.']]\n",
      "========\n"
     ]
    },
    {
     "name": "stdout",
     "output_type": "stream",
     "text": [
      "\n",
      "['boston', 'college', '(', 'also', 'referred', 'to', 'as', 'bc', ')', 'is', 'a', 'private', 'jesuit', 'catholic', 'research', 'university', 'located', 'in', 'the', 'affluent', 'village', 'of', 'chestnut', 'hill', ',', 'massachusetts', ',', 'united', 'states', ',', '6', 'mi', 'west', 'of', 'downtown', 'boston', '.', '<sep>', 'stanford', 'university', '(', 'stanford', ';', 'officially', 'leland', 'stanford', 'junior', 'university', ',', 'colloquially', 'the', 'farm', ')', 'is', 'a', 'private', 'research', 'university', 'in', 'stanford', ',', 'california', ',', 'adjacent', 'to', 'palo', 'alto', 'and', 'between', 'san', 'jose', 'and', 'san', 'francisco', '.', '<sep>']\n",
      "[['boston', 'college', '(', 'also', 'referred', 'to', 'as', 'bc', ')', 'is', 'a', 'private', 'jesuit', 'catholic', 'research', 'university', 'located', 'in', 'the', 'affluent', 'village', 'of', 'chestnut', 'hill', ',', 'massachusetts', ',', 'united', 'states', ',', '6', 'mi', 'west', 'of', 'downtown', 'boston', '.'], ['stanford', 'university', '(', 'stanford', ';', 'officially', 'leland', 'stanford', 'junior', 'university', ',', 'colloquially', 'the', 'farm', ')', 'is', 'a', 'private', 'research', 'university', 'in', 'stanford', ',', 'california', ',', 'adjacent', 'to', 'palo', 'alto', 'and', 'between', 'san', 'jose', 'and', 'san', 'francisco', '.']]\n",
      "========\n",
      "\n",
      "['samson', 'and', 'delilah', 'is', 'a', '1984', 'television', 'film', 'adaptation', 'of', 'the', 'biblical', 'story', 'of', 'samson', 'and', 'delilah', ',', 'starring', 'max', 'von', 'sydow', ',', 'belinda', 'bauer', ',', 'antony', 'hamilton', ',', 'daniel', 'stern', 'and', 'victor', 'mature', '.', '<sep>', 'victor', 'john', 'mature', '(', 'january', '29', ',', '1913', '–', 'august', '4', ',', '1999', ')', 'was', 'an', 'american', 'stage', ',', 'film', ',', 'and', 'television', 'actor', 'who', 'starred', 'most', 'notably', 'in', 'several', 'biblical', 'movies', 'during', 'the', '1950s', ',', 'and', 'was', 'known', 'for', 'his', 'dark', 'good', 'looks', 'and', 'mega', '-', 'watt', 'smile', '.', '<sep>', ' ', 'he', 'also', 'appeared', 'in', 'a', 'large', 'number', 'of', 'musicals', 'opposite', 'such', 'stars', 'as', 'rita', 'hayworth', 'and', 'betty', 'grable', '.', '<sep>']\n",
      "[['samson', 'and', 'delilah', 'is', 'a', '1984', 'television', 'film', 'adaptation', 'of', 'the', 'biblical', 'story', 'of', 'samson', 'and', 'delilah', ',', 'starring', 'max', 'von', 'sydow', ',', 'belinda', 'bauer', ',', 'antony', 'hamilton', ',', 'daniel', 'stern', 'and', 'victor', 'mature', '.'], ['victor', 'john', 'mature', '(', 'january', '29', ',', '1913', '–', 'august', '4', ',', '1999', ')', 'was', 'an', 'american', 'stage', ',', 'film', ',', 'and', 'television', 'actor', 'who', 'starred', 'most', 'notably', 'in', 'several', 'biblical', 'movies', 'during', 'the', '1950s', ',', 'and', 'was', 'known', 'for', 'his', 'dark', 'good', 'looks', 'and', 'mega', '-', 'watt', 'smile', '.'], [' ', 'he', 'also', 'appeared', 'in', 'a', 'large', 'number', 'of', 'musicals', 'opposite', 'such', 'stars', 'as', 'rita', 'hayworth', 'and', 'betty', 'grable', '.']]\n",
      "========\n",
      "\n",
      "['iqaluit', 'airport', '(', 'iata', ':', 'yfb', ',', 'icao', ':', 'cyfb', ')', 'serves', 'iqaluit', ',', 'nunavut', ',', 'canada', 'and', 'is', 'located', 'adjacent', 'to', 'the', 'town', '.', '<sep>', 'canadian', 'north', 'inc', '.', 'is', 'an', 'airline', 'headquartered', 'in', 'calgary', ',', 'alberta', ',', 'canada', '.', '<sep>']\n",
      "[['iqaluit', 'airport', '(', 'iata', ':', 'yfb', ',', 'icao', ':', 'cyfb', ')', 'serves', 'iqaluit', ',', 'nunavut', ',', 'canada', 'and', 'is', 'located', 'adjacent', 'to', 'the', 'town', '.'], ['canadian', 'north', 'inc', '.', 'is', 'an', 'airline', 'headquartered', 'in', 'calgary', ',', 'alberta', ',', 'canada', '.']]\n",
      "========\n",
      "\n",
      "['the', 'royal', 'spa', 'centre', 'is', 'a', 'theatre', 'in', 'leamington', 'spa', ',', 'england', '.', '<sep>', ' ', 'the', 'centre', 'was', 'officially', 'opened', 'on', '15', 'june', '1972', 'by', 'anthony', 'eden', ',', 'one', 'time', 'mp', 'for', 'leamington', 'and', 'warwick', 'and', 'prime', 'minister', 'of', 'the', 'uk', '.', '<sep>', 'robert', 'anthony', 'eden', ',', '1st', 'earl', 'of', 'avon', ',', '(', '12', 'june', '1897', '–', '14', 'january', '1977', ')', 'was', 'a', 'british', 'conservative', 'politician', 'who', 'served', 'three', 'periods', 'as', 'foreign', 'secretary', 'and', 'then', 'a', 'relatively', 'brief', 'term', 'as', 'prime', 'minister', 'of', 'the', 'united', 'kingdom', 'from', '1955', 'to', '1957', '.', '<sep>']\n",
      "[['the', 'royal', 'spa', 'centre', 'is', 'a', 'theatre', 'in', 'leamington', 'spa', ',', 'england', '.'], [' ', 'the', 'centre', 'was', 'officially', 'opened', 'on', '15', 'june', '1972', 'by', 'anthony', 'eden', ',', 'one', 'time', 'mp', 'for', 'leamington', 'and', 'warwick', 'and', 'prime', 'minister', 'of', 'the', 'uk', '.'], ['robert', 'anthony', 'eden', ',', '1st', 'earl', 'of', 'avon', ',', '(', '12', 'june', '1897', '–', '14', 'january', '1977', ')', 'was', 'a', 'british', 'conservative', 'politician', 'who', 'served', 'three', 'periods', 'as', 'foreign', 'secretary', 'and', 'then', 'a', 'relatively', 'brief', 'term', 'as', 'prime', 'minister', 'of', 'the', 'united', 'kingdom', 'from', '1955', 'to', '1957', '.']]\n",
      "========\n",
      "\n",
      "['sooni', 'taraporevala', '(', 'born', '1957', ')', 'is', 'an', 'indian', 'screenwriter', ',', 'photographer', 'and', 'filmmaker', 'who', 'is', 'best', 'known', 'as', 'the', 'screenwriter', 'of', '\"', 'mississippi', 'masala', '\"', ',', '\"', 'the', 'namesake', '\"', 'and', 'oscar', '-', 'nominated', '\"', 'salaam', 'bombay', '\"', '(', '1988', ')', ',', 'all', 'directed', 'by', 'mira', 'nair', '.', '<sep>', 'mississippi', 'masala', 'is', 'a', '1991', 'romantic', 'drama', 'film', 'directed', 'by', 'mira', 'nair', ',', 'based', 'upon', 'a', 'screenplay', 'by', 'sooni', 'taraporevala', ',', 'starring', 'denzel', 'washington', ',', 'sarita', 'choudhury', ',', 'and', 'roshan', 'seth', '.', '<sep>']\n",
      "[['sooni', 'taraporevala', '(', 'born', '1957', ')', 'is', 'an', 'indian', 'screenwriter', ',', 'photographer', 'and', 'filmmaker', 'who', 'is', 'best', 'known', 'as', 'the', 'screenwriter', 'of', '\"', 'mississippi', 'masala', '\"', ',', '\"', 'the', 'namesake', '\"', 'and', 'oscar', '-', 'nominated', '\"', 'salaam', 'bombay', '\"', '(', '1988', ')', ',', 'all', 'directed', 'by', 'mira', 'nair', '.'], ['mississippi', 'masala', 'is', 'a', '1991', 'romantic', 'drama', 'film', 'directed', 'by', 'mira', 'nair', ',', 'based', 'upon', 'a', 'screenplay', 'by', 'sooni', 'taraporevala', ',', 'starring', 'denzel', 'washington', ',', 'sarita', 'choudhury', ',', 'and', 'roshan', 'seth', '.']]\n",
      "========\n",
      "\n",
      "['timothy', 'james', '\"', 'tim', '\"', 'mcilrath', '(', 'born', 'november', '3', ',', '1978', ')', 'is', 'an', 'american', 'punk', 'rock', 'musician', '.', '<sep>', 'spike', 'slawson', 'is', 'an', 'american', 'punk', 'rock', 'musician', ',', 'a', 'member', 'of', 'me', 'first', 'and', 'the', 'gimme', 'gimmes', ',', 'swingin', \"'\", 'utters', ',', 'filthy', 'thievin', \"'\", 'bastards', ',', 're', '-', 'volts', ',', 'and', 'uke', '-', 'hunt', '.', '<sep>']\n",
      "[['timothy', 'james', '\"', 'tim', '\"', 'mcilrath', '(', 'born', 'november', '3', ',', '1978', ')', 'is', 'an', 'american', 'punk', 'rock', 'musician', '.'], ['spike', 'slawson', 'is', 'an', 'american', 'punk', 'rock', 'musician', ',', 'a', 'member', 'of', 'me', 'first', 'and', 'the', 'gimme', 'gimmes', ',', 'swingin', \"'\", 'utters', ',', 'filthy', 'thievin', \"'\", 'bastards', ',', 're', '-', 'volts', ',', 'and', 'uke', '-', 'hunt', '.']]\n",
      "========\n",
      "\n",
      "['gigantic', 'is', 'a', '2008', 'independent', 'comedy', 'film', 'directed', 'by', 'matt', 'aselton', 'and', 'starring', 'paul', 'dano', ',', 'zooey', 'deschanel', ',', 'john', 'goodman', ',', 'edward', 'asner', 'and', 'jane', 'alexander', '.', '<sep>', ' ', 'early', 'in', 'his', 'career', ',', 'he', 'was', 'best', 'known', 'for', 'playing', 'dan', 'conner', 'on', 'the', 'abc', 'tv', 'series', '\"', 'roseanne', '\"', '(', '1988–1997', ')', ',', 'for', 'which', 'he', 'won', 'a', 'golden', 'globe', 'award', 'for', 'best', 'actor', 'in', '1993', '.', '<sep>']\n"
     ]
    },
    {
     "name": "stdout",
     "output_type": "stream",
     "text": [
      "[['gigantic', 'is', 'a', '2008', 'independent', 'comedy', 'film', 'directed', 'by', 'matt', 'aselton', 'and', 'starring', 'paul', 'dano', ',', 'zooey', 'deschanel', ',', 'john', 'goodman', ',', 'edward', 'asner', 'and', 'jane', 'alexander', '.'], [' ', 'early', 'in', 'his', 'career', ',', 'he', 'was', 'best', 'known', 'for', 'playing', 'dan', 'conner', 'on', 'the', 'abc', 'tv', 'series', '\"', 'roseanne', '\"', '(', '1988–1997', ')', ',', 'for', 'which', 'he', 'won', 'a', 'golden', 'globe', 'award', 'for', 'best', 'actor', 'in', '1993', '.']]\n",
      "========\n",
      "\n",
      "[' ', 'gabby', 'logan', 'and', 'vernon', 'kay', 'present', 'the', 'show', ',', 'whilst', 'team', 'gb', 'olympic', 'bronze', 'medal', 'winning', 'diver', 'tom', 'daley', 'is', 'the', 'expert', 'mentor', 'to', 'the', 'celebrities', '.', '<sep>', ' ', 'tom', 'daley', 'specialises', 'in', 'the', '10-metre', 'platform', 'event', 'and', 'is', 'a', 'double', 'world', 'champion', 'in', 'the', 'event', ';', 'he', 'won', 'the', '2009', 'fina', 'world', 'championionship', 'in', 'the', 'individual', 'event', 'at', 'the', 'age', 'of', '15', ',', 'before', 'regaining', 'it', 'in', '2017', '.', '<sep>']\n",
      "[[' ', 'gabby', 'logan', 'and', 'vernon', 'kay', 'present', 'the', 'show', ',', 'whilst', 'team', 'gb', 'olympic', 'bronze', 'medal', 'winning', 'diver', 'tom', 'daley', 'is', 'the', 'expert', 'mentor', 'to', 'the', 'celebrities', '.'], [' ', 'tom', 'daley', 'specialises', 'in', 'the', '10-metre', 'platform', 'event', 'and', 'is', 'a', 'double', 'world', 'champion', 'in', 'the', 'event', ';', 'he', 'won', 'the', '2009', 'fina', 'world', 'championionship', 'in', 'the', 'individual', 'event', 'at', 'the', 'age', 'of', '15', ',', 'before', 'regaining', 'it', 'in', '2017', '.']]\n",
      "========\n",
      "\n",
      "[' ', 'following', 'the', 'poor', 'chart', 'performance', ',', '\"', 'i', 'got', 'a', 'thang', 'for', 'you', '\"', 'featuring', 'keyshia', 'cole', ',', 'was', 'released', 'as', 'the', 'album', \"'s\", 'second', 'single', '.', '<sep>', 'keyshia', 'cole', '(', 'born', 'october', '15', ',', '1981', ')', 'is', 'an', 'american', 'singer', '/', 'songwriter', ',', 'record', 'producer', ',', 'business', 'woman', ',', 'and', 'television', 'personality', '.', '<sep>']\n",
      "[[' ', 'following', 'the', 'poor', 'chart', 'performance', ',', '\"', 'i', 'got', 'a', 'thang', 'for', 'you', '\"', 'featuring', 'keyshia', 'cole', ',', 'was', 'released', 'as', 'the', 'album', \"'s\", 'second', 'single', '.'], ['keyshia', 'cole', '(', 'born', 'october', '15', ',', '1981', ')', 'is', 'an', 'american', 'singer', '/', 'songwriter', ',', 'record', 'producer', ',', 'business', 'woman', ',', 'and', 'television', 'personality', '.']]\n",
      "========\n",
      "\n",
      "['am', 'rong', '(', '1929', '–', 'may', '1975', ')', 'was', 'a', 'cambodian', 'soldier', 'and', 'filmmaker', ',', 'who', 'acted', 'as', 'a', 'spokesman', 'on', 'military', 'matters', 'for', 'the', 'khmer', 'republic', 'during', 'the', 'cambodian', 'civil', 'war', '.', '<sep>', ' ', 'his', 'father', 'was', 'also', 'an', 'actor', 'and', 'filmmaker', '.', '<sep>']\n",
      "[['am', 'rong', '(', '1929', '–', 'may', '1975', ')', 'was', 'a', 'cambodian', 'soldier', 'and', 'filmmaker', ',', 'who', 'acted', 'as', 'a', 'spokesman', 'on', 'military', 'matters', 'for', 'the', 'khmer', 'republic', 'during', 'the', 'cambodian', 'civil', 'war', '.'], [' ', 'his', 'father', 'was', 'also', 'an', 'actor', 'and', 'filmmaker', '.']]\n",
      "========\n",
      "\n",
      "['el', 'nuevo', 'cojo', 'ilustrado', 'is', 'an', 'american', 'online', 'spanish', 'language', 'magazine', 'published', 'from', 'los', 'angeles', ',', 'california', '.', '<sep>', ' ', 'originally', 'it', 'was', 'an', 'arts', 'and', 'opinion', 'magazine', 'focused', 'exclusively', 'on', 'venezuelan', 'culture', 'for', 'venezuelans', 'living', 'in', 'the', 'united', 'states', '.', '<sep>', 'golf', 'magazine', 'is', 'a', 'monthly', 'golf', 'magazine', 'owned', 'by', '\"', 'time', 'inc', '.', '\"', 'it', 'was', 'started', 'in', 'april', ',', '1959', 'by', 'universal', 'publishing', 'and', 'distributing', ',', 'who', 'sold', 'it', 'to', 'times', 'mirror', 'in', '1972', '.', '<sep>']\n",
      "[['el', 'nuevo', 'cojo', 'ilustrado', 'is', 'an', 'american', 'online', 'spanish', 'language', 'magazine', 'published', 'from', 'los', 'angeles', ',', 'california', '.'], [' ', 'originally', 'it', 'was', 'an', 'arts', 'and', 'opinion', 'magazine', 'focused', 'exclusively', 'on', 'venezuelan', 'culture', 'for', 'venezuelans', 'living', 'in', 'the', 'united', 'states', '.'], ['golf', 'magazine', 'is', 'a', 'monthly', 'golf', 'magazine', 'owned', 'by', '\"', 'time', 'inc', '.', '\"', 'it', 'was', 'started', 'in', 'april', ',', '1959', 'by', 'universal', 'publishing', 'and', 'distributing', ',', 'who', 'sold', 'it', 'to', 'times', 'mirror', 'in', '1972', '.']]\n",
      "========\n",
      "\n",
      "[' ', 'in', 'the', 'episode', ',', 'homer', 'starts', 'a', 'bowling', 'team', 'with', 'moe', ',', 'apu', ',', 'and', 'otto', '.', '<sep>', ' ', 'when', 'mr', '.', 'burns', 'discovers', 'the', 'team', 'was', 'funded', 'with', 'his', 'money', ',', 'he', 'insists', 'on', 'joining', '.', '<sep>', ' ', 'he', 'is', 'the', 'school', 'bus', 'driver', 'for', 'springfield', 'elementary', 'school', '.', '<sep>']\n",
      "[[' ', 'in', 'the', 'episode', ',', 'homer', 'starts', 'a', 'bowling', 'team', 'with', 'moe', ',', 'apu', ',', 'and', 'otto', '.'], [' ', 'when', 'mr', '.', 'burns', 'discovers', 'the', 'team', 'was', 'funded', 'with', 'his', 'money', ',', 'he', 'insists', 'on', 'joining', '.'], [' ', 'he', 'is', 'the', 'school', 'bus', 'driver', 'for', 'springfield', 'elementary', 'school', '.']]\n",
      "========\n",
      "\n",
      "['the', 'george', 'washington', 'university', 'hospital', 'is', 'located', 'in', 'washington', ',', 'd.c', '.', 'in', 'the', 'united', 'states', '.', '<sep>', 'medstar', 'washington', 'hospital', 'center', 'is', 'the', 'largest', 'private', 'hospital', 'in', 'washington', ',', 'd.c', '.', 'a', 'member', 'of', 'medstar', 'health', ',', 'the', 'not', '-', 'for', '-', 'profit', 'hospital', 'center', 'is', 'licensed', 'for', '926', 'beds', '.', '<sep>']\n",
      "[['the', 'george', 'washington', 'university', 'hospital', 'is', 'located', 'in', 'washington', ',', 'd.c', '.', 'in', 'the', 'united', 'states', '.'], ['medstar', 'washington', 'hospital', 'center', 'is', 'the', 'largest', 'private', 'hospital', 'in', 'washington', ',', 'd.c', '.', 'a', 'member', 'of', 'medstar', 'health', ',', 'the', 'not', '-', 'for', '-', 'profit', 'hospital', 'center', 'is', 'licensed', 'for', '926', 'beds', '.']]\n",
      "========\n",
      "\n",
      "[' ', 'lauded', 'for', 'his', 'work', 'on', 'the', 'london', 'stage', 'he', 'came', 'to', 'the', 'screen', 'in', 'the', 'groundbreaking', 'hbo', 'series', '\"', 'band', 'of', 'brothers', '\"', 'playing', '1st', 'lt', 'norman', 'dike', '.', '<sep>', ' ', 'dike', 'was', 'portrayed', 'in', 'the', 'hbo', 'miniseries', '\"', 'band', 'of', 'brothers', '\"', 'by', 'peter', \"o'meara\", '.', '<sep>']\n",
      "[[' ', 'lauded', 'for', 'his', 'work', 'on', 'the', 'london', 'stage', 'he', 'came', 'to', 'the', 'screen', 'in', 'the', 'groundbreaking', 'hbo', 'series', '\"', 'band', 'of', 'brothers', '\"', 'playing', '1st', 'lt', 'norman', 'dike', '.'], [' ', 'dike', 'was', 'portrayed', 'in', 'the', 'hbo', 'miniseries', '\"', 'band', 'of', 'brothers', '\"', 'by', 'peter', \"o'meara\", '.']]\n",
      "========\n",
      "\n",
      "[' ', 'dysteleology', 'is', 'an', 'aggressive', ',', 'yet', 'optimistic', ',', 'form', 'of', 'science', '-', 'oriented', 'atheism', 'originally', 'perhaps', 'associated', 'with', 'haeckel', 'and', 'his', 'followers', ',', 'but', 'now', 'perhaps', 'more', 'associated', 'with', 'the', 'type', 'of', 'atheism', 'of', 'richard', 'dawkins', ',', 'sam', 'harris', ',', 'or', 'christopher', 'hitchens', '.', '<sep>', ' ', 'he', 'contributed', 'to', '\"', 'new', 'statesman', '\"', ',', '\"', 'the', 'nation', '\"', ',', '\"', 'the', 'weekly', 'standard', '\"', ',', '\"', 'the', 'atlantic', '\"', ',', '\"', 'london', 'review', 'of', 'books', '\"', ',', '\"', 'the', 'times', 'literary', 'supplement', '\"', ',', '\"', 'slate', '\"', ',', '\"', 'free', 'inquiry', '\"', 'and', '\"', 'vanity', 'fair', '\"', '.', '<sep>']\n"
     ]
    },
    {
     "name": "stdout",
     "output_type": "stream",
     "text": [
      "[[' ', 'dysteleology', 'is', 'an', 'aggressive', ',', 'yet', 'optimistic', ',', 'form', 'of', 'science', '-', 'oriented', 'atheism', 'originally', 'perhaps', 'associated', 'with', 'haeckel', 'and', 'his', 'followers', ',', 'but', 'now', 'perhaps', 'more', 'associated', 'with', 'the', 'type', 'of', 'atheism', 'of', 'richard', 'dawkins', ',', 'sam', 'harris', ',', 'or', 'christopher', 'hitchens', '.'], [' ', 'he', 'contributed', 'to', '\"', 'new', 'statesman', '\"', ',', '\"', 'the', 'nation', '\"', ',', '\"', 'the', 'weekly', 'standard', '\"', ',', '\"', 'the', 'atlantic', '\"', ',', '\"', 'london', 'review', 'of', 'books', '\"', ',', '\"', 'the', 'times', 'literary', 'supplement', '\"', ',', '\"', 'slate', '\"', ',', '\"', 'free', 'inquiry', '\"', 'and', '\"', 'vanity', 'fair', '\"', '.']]\n",
      "========\n",
      "\n",
      "['r', 'adams', 'cowley', '(', 'july', '25', ',', '1917', '–', 'october', '27', ',', '1991', ')', ',', 'the', '\"', 'father', 'of', 'trauma', 'medicine', ',', '\"', 'was', 'an', 'american', 'surgeon', 'considered', 'a', 'pioneer', 'in', 'emergency', 'medicine', 'and', 'the', 'treatment', 'of', 'shock', 'trauma', '.', '<sep>', ' ', 'he', 'is', 'also', 'known', 'for', 'being', 'one', 'of', 'the', 'first', 'surgeons', 'to', 'perform', 'open', '-', 'heart', 'surgery', 'and', 'invented', 'both', 'a', 'surgical', 'clamp', 'that', 'bears', 'his', 'name', 'and', 'a', 'prototype', 'pacemaker', 'that', 'was', 'used', 'by', 'dwight', 'd.', 'eisenhower', '.', '<sep>', 'dwight', 'david', '\"', 'ike', '\"', 'eisenhower', '(', ';', 'october', '14', ',', '1890', '–', 'march', '28', ',', '1969', ')', 'was', 'an', 'american', 'politician', 'and', 'army', 'general', 'who', 'served', 'as', 'the', '34th', 'president', 'of', 'the', 'united', 'states', 'from', '1953', 'until', '1961', '.', '<sep>']\n",
      "[['r', 'adams', 'cowley', '(', 'july', '25', ',', '1917', '–', 'october', '27', ',', '1991', ')', ',', 'the', '\"', 'father', 'of', 'trauma', 'medicine', ',', '\"', 'was', 'an', 'american', 'surgeon', 'considered', 'a', 'pioneer', 'in', 'emergency', 'medicine', 'and', 'the', 'treatment', 'of', 'shock', 'trauma', '.'], [' ', 'he', 'is', 'also', 'known', 'for', 'being', 'one', 'of', 'the', 'first', 'surgeons', 'to', 'perform', 'open', '-', 'heart', 'surgery', 'and', 'invented', 'both', 'a', 'surgical', 'clamp', 'that', 'bears', 'his', 'name', 'and', 'a', 'prototype', 'pacemaker', 'that', 'was', 'used', 'by', 'dwight', 'd.', 'eisenhower', '.'], ['dwight', 'david', '\"', 'ike', '\"', 'eisenhower', '(', ';', 'october', '14', ',', '1890', '–', 'march', '28', ',', '1969', ')', 'was', 'an', 'american', 'politician', 'and', 'army', 'general', 'who', 'served', 'as', 'the', '34th', 'president', 'of', 'the', 'united', 'states', 'from', '1953', 'until', '1961', '.']]\n",
      "========\n",
      "\n",
      "['bizarre', 'was', 'a', 'british', 'alternative', 'magazine', 'published', 'from', '1997', 'to', '2015', '.', '<sep>', ' ', 'it', 'was', 'published', 'by', 'dennis', 'publishing', ',', 'and', 'was', 'a', 'sister', 'publication', 'to', 'the', '\"', 'fortean', 'times', '\"', '.', '<sep>', 'fortean', 'times', 'is', 'a', 'british', 'monthly', 'magazine', 'devoted', 'to', 'the', 'anomalous', 'phenomena', 'popularised', 'by', 'charles', 'fort', '.', '<sep>', ' ', 'previously', 'published', 'by', 'john', 'brown', 'publishing', '(', 'from', '1991', 'to', '2001', ')', 'and', 'then', 'i', 'feel', 'good', 'publishing', '(', '2001', 'to', '2005', ')', ',', 'it', 'is', 'now', 'published', 'by', 'dennis', 'publishing', 'ltd', '.', '<sep>']\n",
      "[['bizarre', 'was', 'a', 'british', 'alternative', 'magazine', 'published', 'from', '1997', 'to', '2015', '.'], [' ', 'it', 'was', 'published', 'by', 'dennis', 'publishing', ',', 'and', 'was', 'a', 'sister', 'publication', 'to', 'the', '\"', 'fortean', 'times', '\"', '.'], ['fortean', 'times', 'is', 'a', 'british', 'monthly', 'magazine', 'devoted', 'to', 'the', 'anomalous', 'phenomena', 'popularised', 'by', 'charles', 'fort', '.'], [' ', 'previously', 'published', 'by', 'john', 'brown', 'publishing', '(', 'from', '1991', 'to', '2001', ')', 'and', 'then', 'i', 'feel', 'good', 'publishing', '(', '2001', 'to', '2005', ')', ',', 'it', 'is', 'now', 'published', 'by', 'dennis', 'publishing', 'ltd', '.']]\n",
      "========\n",
      "\n",
      "['\"', 'friends', 'in', 'low', 'places', '\"', 'is', 'a', 'song', 'performed', 'by', 'american', 'country', 'pop', 'artist', 'garth', 'brooks', '.', '<sep>', ' ', 'it', 'was', 'released', 'on', 'august', '6', ',', '1990', 'as', 'the', 'lead', 'single', 'from', 'his', 'album', '\"', 'no', 'fences', '\"', '.', '<sep>', ' ', 'it', 'was', 'released', 'on', 'august', '27', ',', '1990', ',', 'and', 'reached', '#', '1', 'on', '\"', 'billboard', \"'s\", '\"', 'top', 'country', 'albums', 'chart', '.', '<sep>']\n",
      "[['\"', 'friends', 'in', 'low', 'places', '\"', 'is', 'a', 'song', 'performed', 'by', 'american', 'country', 'pop', 'artist', 'garth', 'brooks', '.'], [' ', 'it', 'was', 'released', 'on', 'august', '6', ',', '1990', 'as', 'the', 'lead', 'single', 'from', 'his', 'album', '\"', 'no', 'fences', '\"', '.'], [' ', 'it', 'was', 'released', 'on', 'august', '27', ',', '1990', ',', 'and', 'reached', '#', '1', 'on', '\"', 'billboard', \"'s\", '\"', 'top', 'country', 'albums', 'chart', '.']]\n",
      "========\n",
      "\n",
      "['\"', 'hate', 'to', 'feel', '\"', 'is', 'the', 'tenth', 'track', 'on', 'alice', 'in', 'chains', \"'\", 'album', '\"', 'dirt', '\"', '(', '1992', ')', '.', '<sep>', ' ', 'peaking', 'at', 'number', 'six', 'on', 'the', '\"', 'billboard', '\"', '200', ',', 'the', 'album', 'was', 'also', 'well', 'received', 'by', 'music', 'critics', '.', '<sep>']\n",
      "[['\"', 'hate', 'to', 'feel', '\"', 'is', 'the', 'tenth', 'track', 'on', 'alice', 'in', 'chains', \"'\", 'album', '\"', 'dirt', '\"', '(', '1992', ')', '.'], [' ', 'peaking', 'at', 'number', 'six', 'on', 'the', '\"', 'billboard', '\"', '200', ',', 'the', 'album', 'was', 'also', 'well', 'received', 'by', 'music', 'critics', '.']]\n",
      "========\n",
      "\n",
      "['portugal', '.', '<sep>', ' ', 'the', 'group', 'consists', 'of', 'john', 'gourley', ',', 'zach', 'carothers', ',', 'kyle', \"o'quin\", ',', 'jason', 'sechrist', 'and', 'eric', 'howk', '.', '<sep>', ' ', 'he', 'is', 'the', 'lead', 'singer', 'and', 'guitarist', 'in', 'the', 'portland', ',', 'oregon', 'rock', 'band', 'portugal', '.', '<sep>', ' ', 'gourley', 'is', 'also', 'a', 'visual', 'artist', ',', 'who', 'often', 'uses', 'the', 'alias', 'the', 'fantastic', 'the', '.', '<sep>']\n",
      "[['portugal', '.'], [' ', 'the', 'group', 'consists', 'of', 'john', 'gourley', ',', 'zach', 'carothers', ',', 'kyle', \"o'quin\", ',', 'jason', 'sechrist', 'and', 'eric', 'howk', '.'], [' ', 'he', 'is', 'the', 'lead', 'singer', 'and', 'guitarist', 'in', 'the', 'portland', ',', 'oregon', 'rock', 'band', 'portugal', '.'], [' ', 'gourley', 'is', 'also', 'a', 'visual', 'artist', ',', 'who', 'often', 'uses', 'the', 'alias', 'the', 'fantastic', 'the', '.']]\n",
      "========\n",
      "\n",
      "[' ', 'the', '33-lap', 'race', 'was', 'won', 'by', 'e.dams', '-', 'renault', 'driver', 'sébastien', 'buemi', ',', 'who', 'started', 'from', 'the', 'seventh', 'position', '.', '<sep>', 'sébastien', 'olivier', 'buemi', '(', 'born', '31', 'october', '1988', ')', 'is', 'a', 'swiss', 'professional', 'racing', 'driver', ',', 'who', 'formerly', 'competed', 'for', 'scuderia', 'toro', 'rosso', 'in', 'formula', 'one', '.', '<sep>']\n",
      "[[' ', 'the', '33-lap', 'race', 'was', 'won', 'by', 'e.dams', '-', 'renault', 'driver', 'sébastien', 'buemi', ',', 'who', 'started', 'from', 'the', 'seventh', 'position', '.'], ['sébastien', 'olivier', 'buemi', '(', 'born', '31', 'october', '1988', ')', 'is', 'a', 'swiss', 'professional', 'racing', 'driver', ',', 'who', 'formerly', 'competed', 'for', 'scuderia', 'toro', 'rosso', 'in', 'formula', 'one', '.']]\n",
      "========\n",
      "\n"
     ]
    },
    {
     "name": "stdout",
     "output_type": "stream",
     "text": [
      "['kim', 'yool', '-', 'ho', '(;', 'born', 'february', '21', ',', '1985', ')', 'is', 'a', 'south', 'korean', 'actor', 'and', 'model', ',', 'he', 'is', 'best', 'known', 'for', 'his', 'role', 'in', '\"', 'the', 'map', 'against', 'the', 'world', '\"', ',', 'in', 'which', 'he', 'played', 'prince', 'geumwi', ',', 'and', 'the', '2016', 'zombie', 'thriller', 'apocalypse', 'film', '\"', 'train', 'to', 'busan', '\"', 'as', '\"', 'man', 'in', 'suit', '2', '\"', ',', 'who', 'helps', 'yong', '-', 'suk', '(', 'played', 'by', 'kim', 'eui', '-', 'sung', ')', '.', '<sep>', 'train', 'to', 'busan', '(', ')', 'is', 'a', '2016', 'south', 'korean', 'zombie', 'apocalypse', 'action', 'thriller', 'film', 'directed', 'by', 'yeon', 'sang', '-', 'ho', 'and', 'starring', 'gong', 'yoo', ',', 'jung', 'yu', '-', 'mi', ',', 'and', 'ma', 'dong', '-', 'seok', '.', '<sep>']\n",
      "[['kim', 'yool', '-', 'ho', '(;', 'born', 'february', '21', ',', '1985', ')', 'is', 'a', 'south', 'korean', 'actor', 'and', 'model', ',', 'he', 'is', 'best', 'known', 'for', 'his', 'role', 'in', '\"', 'the', 'map', 'against', 'the', 'world', '\"', ',', 'in', 'which', 'he', 'played', 'prince', 'geumwi', ',', 'and', 'the', '2016', 'zombie', 'thriller', 'apocalypse', 'film', '\"', 'train', 'to', 'busan', '\"', 'as', '\"', 'man', 'in', 'suit', '2', '\"', ',', 'who', 'helps', 'yong', '-', 'suk', '(', 'played', 'by', 'kim', 'eui', '-', 'sung', ')', '.'], ['train', 'to', 'busan', '(', ')', 'is', 'a', '2016', 'south', 'korean', 'zombie', 'apocalypse', 'action', 'thriller', 'film', 'directed', 'by', 'yeon', 'sang', '-', 'ho', 'and', 'starring', 'gong', 'yoo', ',', 'jung', 'yu', '-', 'mi', ',', 'and', 'ma', 'dong', '-', 'seok', '.']]\n",
      "========\n",
      "\n",
      "[' ', 'he', 'was', 'born', 'in', '1972', 'in', 'enugu', '.', '<sep>', ' ', 'the', 'city', 'had', 'a', 'population', 'of', '722,664', 'according', 'to', 'the', '2006', 'nigerian', 'census', '.', '<sep>']\n",
      "[[' ', 'he', 'was', 'born', 'in', '1972', 'in', 'enugu', '.'], [' ', 'the', 'city', 'had', 'a', 'population', 'of', '722,664', 'according', 'to', 'the', '2006', 'nigerian', 'census', '.']]\n",
      "========\n",
      "\n",
      "['d.c', '.', 'cab', '(', 'also', 'known', 'as', 'street', 'fight', ')', 'is', 'a', '1983', 'american', 'comedy', 'film', ',', 'starring', 'max', 'gail', ',', 'adam', 'baldwin', ',', 'mr', '.', 't', ',', 'charlie', 'barnett', ',', 'gary', 'busey', ',', 'marsha', 'warfield', ',', 'and', 'whitman', 'mayo', '.', '<sep>', ' ', 'he', 'most', 'notably', 'portrayed', 'the', 'role', 'of', 'detective', 'stan', '\"', 'wojo', '\"', 'wojciehowicz', 'on', 'the', 'television', 'sitcom', '\"', 'barney', 'miller', '\"', '.', '<sep>']\n",
      "[['d.c', '.', 'cab', '(', 'also', 'known', 'as', 'street', 'fight', ')', 'is', 'a', '1983', 'american', 'comedy', 'film', ',', 'starring', 'max', 'gail', ',', 'adam', 'baldwin', ',', 'mr', '.', 't', ',', 'charlie', 'barnett', ',', 'gary', 'busey', ',', 'marsha', 'warfield', ',', 'and', 'whitman', 'mayo', '.'], [' ', 'he', 'most', 'notably', 'portrayed', 'the', 'role', 'of', 'detective', 'stan', '\"', 'wojo', '\"', 'wojciehowicz', 'on', 'the', 'television', 'sitcom', '\"', 'barney', 'miller', '\"', '.']]\n",
      "========\n",
      "\n",
      "['catherine', 'was', 'an', 'alternative', 'rock', 'band', 'from', 'chicago', ',', 'illinois', 'that', 'was', 'active', 'from', '1985', 'to', '1998', '.', '<sep>', 'richard', 'willis', 'hawley', '(', 'born', '17', 'january', '1967', ')', 'is', 'an', 'english', 'guitarist', ',', 'singer', '-', 'songwriter', 'and', 'producer', '.', '<sep>']\n",
      "[['catherine', 'was', 'an', 'alternative', 'rock', 'band', 'from', 'chicago', ',', 'illinois', 'that', 'was', 'active', 'from', '1985', 'to', '1998', '.'], ['richard', 'willis', 'hawley', '(', 'born', '17', 'january', '1967', ')', 'is', 'an', 'english', 'guitarist', ',', 'singer', '-', 'songwriter', 'and', 'producer', '.']]\n",
      "========\n",
      "\n",
      "['pamela', 'renea', 'veasey', '(', 'born', 'may', '25', ',', '1962', ')', 'is', 'an', 'american', 'television', 'writer', ',', 'producer', 'and', 'director', '.', '<sep>', 'jon', 'jost', '(', 'born', '16', 'may', '1943', 'in', 'chicago', ')', 'is', 'an', 'american', 'independent', 'filmmaker', '.', '<sep>']\n",
      "[['pamela', 'renea', 'veasey', '(', 'born', 'may', '25', ',', '1962', ')', 'is', 'an', 'american', 'television', 'writer', ',', 'producer', 'and', 'director', '.'], ['jon', 'jost', '(', 'born', '16', 'may', '1943', 'in', 'chicago', ')', 'is', 'an', 'american', 'independent', 'filmmaker', '.']]\n",
      "========\n",
      "\n",
      "['hot', 'feet', 'is', 'a', 'jukebox', 'musical', 'featuring', 'the', 'music', 'of', 'earth', ',', 'wind', '&', 'fire', ',', 'a', 'book', 'by', 'heru', 'ptah', 'and', 'was', 'conceived', ',', 'directed', ',', 'and', 'choreographed', 'by', 'maurice', 'hines', '.', '<sep>', ' ', 'he', 'is', 'the', 'brother', 'of', 'dancer', 'gregory', 'hines', '.', '<sep>']\n",
      "[['hot', 'feet', 'is', 'a', 'jukebox', 'musical', 'featuring', 'the', 'music', 'of', 'earth', ',', 'wind', '&', 'fire', ',', 'a', 'book', 'by', 'heru', 'ptah', 'and', 'was', 'conceived', ',', 'directed', ',', 'and', 'choreographed', 'by', 'maurice', 'hines', '.'], [' ', 'he', 'is', 'the', 'brother', 'of', 'dancer', 'gregory', 'hines', '.']]\n",
      "========\n",
      "\n",
      "[' ', 'the', 'canal', 'is', 'fed', 'by', 'the', 'savannah', 'river', 'and', 'passes', 'through', 'three', 'levels', '(', 'approximately', '13', 'miles', 'total', ')', 'in', 'suburban', 'and', 'urban', 'augusta', 'before', 'the', 'water', 'returns', 'to', 'the', 'river', 'at', 'various', 'locations', '.', '<sep>', ' ', 'there', 'are', '13', 'mi', 'of', 'levees', 'and', 'floodwalls', 'that', 'line', 'the', 'sides', 'of', 'the', 'canals', '.', '<sep>']\n",
      "[[' ', 'the', 'canal', 'is', 'fed', 'by', 'the', 'savannah', 'river', 'and', 'passes', 'through', 'three', 'levels', '(', 'approximately', '13', 'miles', 'total', ')', 'in', 'suburban', 'and', 'urban', 'augusta', 'before', 'the', 'water', 'returns', 'to', 'the', 'river', 'at', 'various', 'locations', '.'], [' ', 'there', 'are', '13', 'mi', 'of', 'levees', 'and', 'floodwalls', 'that', 'line', 'the', 'sides', 'of', 'the', 'canals', '.']]\n",
      "========\n",
      "\n",
      "['myra', 'hiatt', 'kraft', '(', '\"', 'née', '\"', 'myra', 'nathalie', 'hiatt', ';', 'december', '27', ',', '1942', '–', 'july', '20', ',', '2011', ')', 'was', 'an', 'american', 'philanthropist', 'and', 'the', 'wife', 'of', 'new', 'england', 'patriots', 'and', 'new', 'england', 'revolution', 'owner', 'robert', 'kraft', '.', '<sep>', ' ', 'his', 'sports', 'holdings', 'include', ':', 'the', 'national', 'football', 'league', \"'s\", 'new', 'england', 'patriots', ',', 'major', 'league', 'soccer', \"'s\", 'new', 'england', 'revolution', 'and', 'the', 'stadium', 'in', 'which', 'both', 'teams', 'play', ',', 'gillette', 'stadium', '.', '<sep>']\n",
      "[['myra', 'hiatt', 'kraft', '(', '\"', 'née', '\"', 'myra', 'nathalie', 'hiatt', ';', 'december', '27', ',', '1942', '–', 'july', '20', ',', '2011', ')', 'was', 'an', 'american', 'philanthropist', 'and', 'the', 'wife', 'of', 'new', 'england', 'patriots', 'and', 'new', 'england', 'revolution', 'owner', 'robert', 'kraft', '.'], [' ', 'his', 'sports', 'holdings', 'include', ':', 'the', 'national', 'football', 'league', \"'s\", 'new', 'england', 'patriots', ',', 'major', 'league', 'soccer', \"'s\", 'new', 'england', 'revolution', 'and', 'the', 'stadium', 'in', 'which', 'both', 'teams', 'play', ',', 'gillette', 'stadium', '.']]\n",
      "========\n",
      "\n",
      "[' ', 'it', 'has', 'been', 'covered', 'by', 'bands', 'such', 'as', 'racer', 'x', ',', 'fu', 'manchu', ',', 'the', 'smashing', 'pumpkins', ',', 'sebastian', 'bach', 'and', 'fighting', 'gravity', '.', '<sep>', 'fu', 'manchu', 'is', 'an', 'american', ',', 'southern', 'california', '-', 'based', 'stoner', 'rock', 'band', 'that', 'formed', 'in', '1985', '.', '<sep>']\n",
      "[[' ', 'it', 'has', 'been', 'covered', 'by', 'bands', 'such', 'as', 'racer', 'x', ',', 'fu', 'manchu', ',', 'the', 'smashing', 'pumpkins', ',', 'sebastian', 'bach', 'and', 'fighting', 'gravity', '.'], ['fu', 'manchu', 'is', 'an', 'american', ',', 'southern', 'california', '-', 'based', 'stoner', 'rock', 'band', 'that', 'formed', 'in', '1985', '.']]\n",
      "========\n",
      "\n"
     ]
    },
    {
     "name": "stdout",
     "output_type": "stream",
     "text": [
      "[' ', 'he', 'currently', 'serves', 'as', 'ceo', 'of', 'lionsgate', 'uk', '&', 'europe', 'and', 'was', 'the', 'executive', 'producer', 'for', 'brooklyn', ',', 'eddie', 'the', 'eagle', ',', 'salmon', 'fishing', 'in', 'the', 'yemen', ',', 'the', 'railway', 'man', 'and', 'london', 'has', 'fallen', '.', '<sep>', 'london', 'has', 'fallen', 'is', 'a', '2016', 'american', 'action', 'thriller', 'film', 'directed', 'by', 'babak', 'najafi', 'and', 'written', 'by', 'creighton', 'rothenberger', ',', 'katrin', 'benedikt', ',', 'chad', 'st', '.', 'john', 'and', 'christian', 'gudegast', '.', '<sep>']\n",
      "[[' ', 'he', 'currently', 'serves', 'as', 'ceo', 'of', 'lionsgate', 'uk', '&', 'europe', 'and', 'was', 'the', 'executive', 'producer', 'for', 'brooklyn', ',', 'eddie', 'the', 'eagle', ',', 'salmon', 'fishing', 'in', 'the', 'yemen', ',', 'the', 'railway', 'man', 'and', 'london', 'has', 'fallen', '.'], ['london', 'has', 'fallen', 'is', 'a', '2016', 'american', 'action', 'thriller', 'film', 'directed', 'by', 'babak', 'najafi', 'and', 'written', 'by', 'creighton', 'rothenberger', ',', 'katrin', 'benedikt', ',', 'chad', 'st', '.', 'john', 'and', 'christian', 'gudegast', '.']]\n",
      "========\n",
      "\n",
      "[' ', 'chuck', 'and', 'sarah', 'are', 'assigned', 'to', 'train', 'under', 'craig', 'and', 'laura', 'turner', '(', 'fred', 'willard', 'and', 'swoosie', 'kurtz', ')', ',', 'a', 'married', 'cia', 'team', 'who', ',', 'despite', 'their', 'impeccable', 'record', ',', 'hate', 'one', 'another', '.', '<sep>', ' ', 'she', 'is', 'an', 'emmy', 'award', 'winner', 'and', 'two', '-', 'time', 'tony', 'award', 'winner', '.', '<sep>']\n",
      "[[' ', 'chuck', 'and', 'sarah', 'are', 'assigned', 'to', 'train', 'under', 'craig', 'and', 'laura', 'turner', '(', 'fred', 'willard', 'and', 'swoosie', 'kurtz', ')', ',', 'a', 'married', 'cia', 'team', 'who', ',', 'despite', 'their', 'impeccable', 'record', ',', 'hate', 'one', 'another', '.'], [' ', 'she', 'is', 'an', 'emmy', 'award', 'winner', 'and', 'two', '-', 'time', 'tony', 'award', 'winner', '.']]\n",
      "========\n",
      "\n",
      "['rainbow', 'terrace', ',', 'now', 'known', 'as', 'lullwater', 'estate', ',', 'is', 'the', 'mediterranean', '-', 'style', 'atlanta', 'mansion', 'built', 'for', 'lucy', 'beall', 'candler', 'owens', 'heinz', '(', '1882–1962', ')', ',', 'daughter', 'of', 'coca', '-', 'cola', 'co', '-', 'founder', 'asa', 'griggs', 'candler', '.', '<sep>', 'asa', 'griggs', 'candler', '(', 'december', '30', ',', '1851', '–', 'march', '12', ',', '1929', ')', 'was', 'an', 'american', 'business', 'tycoon', 'who', 'founded', 'the', 'coca', '-', 'cola', 'company', '.', '<sep>', ' ', 'he', 'also', 'served', 'as', 'the', '41st', 'mayor', 'of', 'atlanta', ',', 'georgia', 'from', '1916', 'to', '1919', '.', '<sep>']\n",
      "[['rainbow', 'terrace', ',', 'now', 'known', 'as', 'lullwater', 'estate', ',', 'is', 'the', 'mediterranean', '-', 'style', 'atlanta', 'mansion', 'built', 'for', 'lucy', 'beall', 'candler', 'owens', 'heinz', '(', '1882–1962', ')', ',', 'daughter', 'of', 'coca', '-', 'cola', 'co', '-', 'founder', 'asa', 'griggs', 'candler', '.'], ['asa', 'griggs', 'candler', '(', 'december', '30', ',', '1851', '–', 'march', '12', ',', '1929', ')', 'was', 'an', 'american', 'business', 'tycoon', 'who', 'founded', 'the', 'coca', '-', 'cola', 'company', '.'], [' ', 'he', 'also', 'served', 'as', 'the', '41st', 'mayor', 'of', 'atlanta', ',', 'georgia', 'from', '1916', 'to', '1919', '.']]\n",
      "========\n",
      "\n",
      "['an', 'autograph', 'in', 'assyriology', 'is', 'the', 'hand', '-', 'copy', 'of', 'a', 'cuneiform', 'clay', '-', 'tablet', '.', '<sep>', 'cuneiform', 'script', '(', 'or', 'or', ')', ',', 'one', 'of', 'the', 'earliest', 'systems', 'of', 'writing', ',', 'was', 'invented', 'by', 'the', 'sumerians', '.', '<sep>']\n",
      "[['an', 'autograph', 'in', 'assyriology', 'is', 'the', 'hand', '-', 'copy', 'of', 'a', 'cuneiform', 'clay', '-', 'tablet', '.'], ['cuneiform', 'script', '(', 'or', 'or', ')', ',', 'one', 'of', 'the', 'earliest', 'systems', 'of', 'writing', ',', 'was', 'invented', 'by', 'the', 'sumerians', '.']]\n",
      "========\n",
      "\n",
      "[' ', 'its', 'basis', 'is', 'the', 'fragrant', 'concubine', ',', 'a', 'chinese', 'legend', 'about', 'a', 'uighur', 'girl', 'from', 'kashgar', 'who', 'became', 'a', 'concubine', 'of', 'the', 'qianlong', 'emperor', '.', '<sep>', ' ', 'the', 'cartoon', 'was', 'produced', 'to', 'improve', 'relations', 'between', 'the', 'han', 'chinese', 'and', 'the', 'uighurs', '.', '<sep>', ' ', 'they', 'constitute', 'approximately', '92', '%', 'of', 'the', 'population', 'of', 'china', ',', '95', '%', 'of', 'taiwan', '(', 'han', 'taiwanese', ')', ',', '76', '%', 'of', 'singapore', ',', '23', '%', 'of', 'malaysia', 'and', 'about', '17', '%', 'of', 'the', 'global', 'population', ',', 'making', 'them', 'the', 'world', \"'s\", 'largest', 'ethnic', 'group', 'with', 'over', '1.3', 'billion', 'people', '.', '<sep>']\n",
      "[[' ', 'its', 'basis', 'is', 'the', 'fragrant', 'concubine', ',', 'a', 'chinese', 'legend', 'about', 'a', 'uighur', 'girl', 'from', 'kashgar', 'who', 'became', 'a', 'concubine', 'of', 'the', 'qianlong', 'emperor', '.'], [' ', 'the', 'cartoon', 'was', 'produced', 'to', 'improve', 'relations', 'between', 'the', 'han', 'chinese', 'and', 'the', 'uighurs', '.'], [' ', 'they', 'constitute', 'approximately', '92', '%', 'of', 'the', 'population', 'of', 'china', ',', '95', '%', 'of', 'taiwan', '(', 'han', 'taiwanese', ')', ',', '76', '%', 'of', 'singapore', ',', '23', '%', 'of', 'malaysia', 'and', 'about', '17', '%', 'of', 'the', 'global', 'population', ',', 'making', 'them', 'the', 'world', \"'s\", 'largest', 'ethnic', 'group', 'with', 'over', '1.3', 'billion', 'people', '.']]\n",
      "========\n",
      "\n",
      "['the', 'boren', '-', 'mccurdy', 'intelligence', 'reform', 'proposals', 'are', 'two', 'legislative', 'proposals', 'from', 'senator', 'david', 'boren', 'and', 'representative', 'david', 'mccurdy', 'in', '1992', '(', '102nd', 'congress', ')', '.', '<sep>', 'david', 'lyle', 'boren', '(', 'born', 'april', '21', ',', '1941', ')', 'is', 'an', 'american', 'university', 'administrator', 'and', 'politician', 'from', 'the', 'state', 'of', 'oklahoma', '.', '<sep>']\n",
      "[['the', 'boren', '-', 'mccurdy', 'intelligence', 'reform', 'proposals', 'are', 'two', 'legislative', 'proposals', 'from', 'senator', 'david', 'boren', 'and', 'representative', 'david', 'mccurdy', 'in', '1992', '(', '102nd', 'congress', ')', '.'], ['david', 'lyle', 'boren', '(', 'born', 'april', '21', ',', '1941', ')', 'is', 'an', 'american', 'university', 'administrator', 'and', 'politician', 'from', 'the', 'state', 'of', 'oklahoma', '.']]\n",
      "========\n",
      "\n",
      "[' ', 'it', 'is', 'currently', 'on', 'display', 'at', 'the', 'adams', 'museum', '&', 'house', 'in', 'deadwood', ',', 'south', 'dakota', '.', '<sep>', 'deadwood', '(', 'lakota', ':', '\"', 'owáyasuta', '\"', ';', '\"', 'to', 'approve', 'or', 'confirm', 'things', '\"', ')', 'is', 'a', 'city', 'in', 'south', 'dakota', ',', 'united', 'states', ',', 'and', 'the', 'county', 'seat', 'of', 'lawrence', 'county', '.', '<sep>']\n",
      "[[' ', 'it', 'is', 'currently', 'on', 'display', 'at', 'the', 'adams', 'museum', '&', 'house', 'in', 'deadwood', ',', 'south', 'dakota', '.'], ['deadwood', '(', 'lakota', ':', '\"', 'owáyasuta', '\"', ';', '\"', 'to', 'approve', 'or', 'confirm', 'things', '\"', ')', 'is', 'a', 'city', 'in', 'south', 'dakota', ',', 'united', 'states', ',', 'and', 'the', 'county', 'seat', 'of', 'lawrence', 'county', '.']]\n",
      "========\n",
      "\n",
      "['children', '’s', 'national', 'medical', 'center', '(', 'formerly', 'dc', 'children', '’s', 'hospital', ')', 'is', 'ranked', 'among', 'the', 'top', '10', 'children', '’s', 'hospitals', 'in', 'the', 'country', 'by', '\"', 'u.s', '.', 'news', '&', 'world', 'report', '.', '\"', '<sep>', 'medstar', 'washington', 'hospital', 'center', 'is', 'the', 'largest', 'private', 'hospital', 'in', 'washington', ',', 'd.c', '.', 'a', 'member', 'of', 'medstar', 'health', ',', 'the', 'not', '-', 'for', '-', 'profit', 'hospital', 'center', 'is', 'licensed', 'for', '926', 'beds', '.', '<sep>']\n"
     ]
    },
    {
     "name": "stdout",
     "output_type": "stream",
     "text": [
      "[['children', '’s', 'national', 'medical', 'center', '(', 'formerly', 'dc', 'children', '’s', 'hospital', ')', 'is', 'ranked', 'among', 'the', 'top', '10', 'children', '’s', 'hospitals', 'in', 'the', 'country', 'by', '\"', 'u.s', '.', 'news', '&', 'world', 'report', '.', '\"'], ['medstar', 'washington', 'hospital', 'center', 'is', 'the', 'largest', 'private', 'hospital', 'in', 'washington', ',', 'd.c', '.', 'a', 'member', 'of', 'medstar', 'health', ',', 'the', 'not', '-', 'for', '-', 'profit', 'hospital', 'center', 'is', 'licensed', 'for', '926', 'beds', '.']]\n",
      "========\n",
      "\n"
     ]
    }
   ],
   "source": [
    "def spilter(x,tk):\n",
    "    res = []\n",
    "    s = 0\n",
    "    sqlen = len(x)\n",
    "    for i,t in enumerate(x): \n",
    "        if t == tk:\n",
    "            res.append(x[s:i])\n",
    "            s = i+1   \n",
    "    if s is 0:       \n",
    "        res.append(x[s:-1])\n",
    "    return res\n",
    "\n",
    "for i,ex in enumerate(mydata.train.examples):\n",
    "    #print(spilter(mydata.train.examples[i].Answer,'<sep>'))\n",
    "    print(mydata.train.examples[i].Answer)\n",
    "    print(spilter(mydata.train.examples[i].Answer,'<sep>'))\n",
    "    print('========\\n')\n",
    "    #mydata.train.examples[i].Question = spilter(mydata.train.examples[i].Question,'<sep>')\n",
    "    #mydata.train.examples[i].Passage = spilter(mydata.train.examples[i].Passage,'<sep>')\n",
    "    #print(mydata.train.examples[i].Passage)\n",
    "#print(spilter(mydata.train.examples[0].Passage,'<sep>'))"
   ]
  },
  {
   "cell_type": "code",
   "execution_count": 5,
   "metadata": {},
   "outputs": [
    {
     "data": {
      "text/plain": [
       "[[[]]]"
      ]
     },
     "execution_count": 5,
     "metadata": {},
     "output_type": "execute_result"
    }
   ],
   "source": [
    "mydata.train.examples[0].Question"
   ]
  },
  {
   "cell_type": "code",
   "execution_count": 5,
   "metadata": {},
   "outputs": [
    {
     "name": "stdout",
     "output_type": "stream",
     "text": [
      "torch.Size([2, 300])\n"
     ]
    }
   ],
   "source": [
    "x = torch.randn(2,10,300)\n",
    "\n",
    "#(self,word_dim,n_head,n_hid,dropout,nlayers):\n",
    "model = CSAEncoder(word_dim=300,n_head=4,n_hid=300,dropout=0.1,nlayers=2)\n",
    "print(model(x).shape)\n"
   ]
  },
  {
   "cell_type": "markdown",
   "metadata": {},
   "source": [
    "# trans data"
   ]
  },
  {
   "cell_type": "code",
   "execution_count": 2,
   "metadata": {},
   "outputs": [
    {
     "name": "stderr",
     "output_type": "stream",
     "text": [
      "0% [##############################] 100% | ETA: 00:00:00\n",
      "Total time elapsed: 00:00:00\n"
     ]
    },
    {
     "name": "stdout",
     "output_type": "stream",
     "text": [
      "write down\n"
     ]
    },
    {
     "name": "stderr",
     "output_type": "stream",
     "text": [
      "0% [##############################] 100% | ETA: 00:00:00\n",
      "Total time elapsed: 00:00:00\n"
     ]
    },
    {
     "name": "stdout",
     "output_type": "stream",
     "text": [
      "write down\n"
     ]
    },
    {
     "data": {
      "text/plain": [
       "<mydata.dataProcesser at 0x198071dc358>"
      ]
     },
     "execution_count": 2,
     "metadata": {},
     "output_type": "execute_result"
    }
   ],
   "source": [
    "src = 'C:/Users/User/Documents/3.NLP/Dataset/HotpotQA/train.json'\n",
    "des = 'C:/Users/User/Documents/3.NLP/Dataset/HotpotQA/small/small_train_sep_100.csv'\n",
    "\n",
    "dataProcesser(src,des,100)\n",
    "src = 'C:/Users/User/Documents/3.NLP/Dataset/HotpotQA/dev.json'\n",
    "des = 'C:/Users/User/Documents/3.NLP/Dataset/HotpotQA/small/small_dev_sep_100.csv'\n",
    "dataProcesser(src,des,100)"
   ]
  },
  {
   "cell_type": "code",
   "execution_count": null,
   "metadata": {},
   "outputs": [],
   "source": []
  },
  {
   "cell_type": "code",
   "execution_count": 24,
   "metadata": {},
   "outputs": [
    {
     "name": "stdout",
     "output_type": "stream",
     "text": [
      "[4, 5, 6, 4]\n"
     ]
    }
   ],
   "source": []
  },
  {
   "cell_type": "code",
   "execution_count": null,
   "metadata": {},
   "outputs": [],
   "source": []
  },
  {
   "cell_type": "code",
   "execution_count": 12,
   "metadata": {},
   "outputs": [
    {
     "name": "stdout",
     "output_type": "stream",
     "text": [
      "['time', 'is', 'out', '', '(', 'so)', 'i', 'will', 'kill', 'you.Am', 'i', 'a', 'joke?']\n"
     ]
    }
   ],
   "source": [
    "s = \"time is out (so) i will kill you.Am i a joke?\"\n",
    "\n",
    "s = s.replace('(',' ( ')\n",
    "\n",
    "print(s.split(' '))"
   ]
  },
  {
   "cell_type": "code",
   "execution_count": null,
   "metadata": {},
   "outputs": [],
   "source": []
  }
 ],
 "metadata": {
  "kernelspec": {
   "display_name": "Python 3",
   "language": "python",
   "name": "python3"
  },
  "language_info": {
   "codemirror_mode": {
    "name": "ipython",
    "version": 3
   },
   "file_extension": ".py",
   "mimetype": "text/x-python",
   "name": "python",
   "nbconvert_exporter": "python",
   "pygments_lexer": "ipython3",
   "version": "3.7.3"
  }
 },
 "nbformat": 4,
 "nbformat_minor": 2
}
