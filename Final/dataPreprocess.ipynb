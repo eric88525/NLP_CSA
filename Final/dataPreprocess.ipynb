{
 "cells": [
  {
   "cell_type": "code",
   "execution_count": 1,
   "metadata": {},
   "outputs": [
    {
     "name": "stderr",
     "output_type": "stream",
     "text": [
      "0% [##############################] 100% | ETA: 00:00:00\n",
      "Total time elapsed: 00:00:00\n"
     ]
    },
    {
     "name": "stdout",
     "output_type": "stream",
     "text": [
      "write down\n",
      "DEV\n"
     ]
    },
    {
     "name": "stderr",
     "output_type": "stream",
     "text": [
      "0% [##############################] 100% | ETA: 00:00:00"
     ]
    },
    {
     "name": "stdout",
     "output_type": "stream",
     "text": [
      "write down\n"
     ]
    },
    {
     "name": "stderr",
     "output_type": "stream",
     "text": [
      "\n",
      "Total time elapsed: 00:00:00\n"
     ]
    },
    {
     "data": {
      "text/plain": [
       "<mydata.dataProcesser at 0x1f40008db00>"
      ]
     },
     "execution_count": 1,
     "metadata": {},
     "output_type": "execute_result"
    }
   ],
   "source": [
    "from mydata import dataProcesser\n",
    "\n",
    "src = 'C:/Users/User/Documents/3.NLP/Dataset/HotpotQA/train.json'\n",
    "des = 'C:/Users/User/Documents/3.NLP/Dataset/HotpotQA/small/small_train_sep_1000.csv'\n",
    "des = './small_train_sep_1000.csv'\n",
    "#des = 'C:/Users/User/Documents/3.NLP/Dataset/HotpotQA/train.csv'\n",
    "dataProcesser(src,des,1000)\n",
    "src = 'C:/Users/User/Documents/3.NLP/Dataset/HotpotQA/dev.json'\n",
    "des = 'C:/Users/User/Documents/3.NLP/Dataset/HotpotQA/small/small_dev_sep_1000.csv'\n",
    "des = './small_dev_sep_1000.csv'\n",
    "#des = 'C:/Users/User/Documents/3.NLP/Dataset/HotpotQA/dev.csv'\n",
    "print('DEV')\n",
    "dataProcesser(src,des,1000)"
   ]
  }
 ],
 "metadata": {
  "kernelspec": {
   "display_name": "Python 3",
   "language": "python",
   "name": "python3"
  },
  "language_info": {
   "codemirror_mode": {
    "name": "ipython",
    "version": 3
   },
   "file_extension": ".py",
   "mimetype": "text/x-python",
   "name": "python",
   "nbconvert_exporter": "python",
   "pygments_lexer": "ipython3",
   "version": "3.7.3"
  }
 },
 "nbformat": 4,
 "nbformat_minor": 4
}
