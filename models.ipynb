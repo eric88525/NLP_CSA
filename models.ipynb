{
 "cells": [
  {
   "cell_type": "code",
   "execution_count": 14,
   "metadata": {},
   "outputs": [],
   "source": [
    "import torch\n",
    "import torch.nn as nn\n",
    "import torch.nn.functional as F\n",
    "from torch.autograd import Variable"
   ]
  },
  {
   "cell_type": "markdown",
   "metadata": {},
   "source": [
    "# 線性轉換層wx+b 並初始化 \n",
    "+ customizedModule(in_dim,out_dim,activation,dropout)"
   ]
  },
  {
   "cell_type": "code",
   "execution_count": 15,
   "metadata": {},
   "outputs": [],
   "source": [
    "class customizedModule(nn.Module):\n",
    "    def __init(self):\n",
    "        super(self,customizedModule).__init()\n",
    "    def customizedLinear(self,in_dim,out_dim,activation=None,dropout=False):\n",
    "        c1 = nn.Sequencial(nn.Linear(in_dim,out_dim))\n",
    "        nn.init.xavier_uniform(c1[0].weight)\n",
    "        nn.init.constant(c1[0].bisa,0)\n",
    "        \n",
    "        if activation is not None:\n",
    "            c1.add_module(str(len(c1)),activation)\n",
    "        if dropout:\n",
    "            c1.add_module(str(len(c1)),nn.Dropout(p=self.args.dropout))  \n",
    "        return c1"
   ]
  },
  {
   "cell_type": "markdown",
   "metadata": {},
   "source": [
    "# S2T\n",
    "+ s2tSA(args,hidden_size)"
   ]
  },
  {
   "cell_type": "code",
   "execution_count": 20,
   "metadata": {},
   "outputs": [],
   "source": [
    "class S2T(customizedModule):\n",
    "    def _init(self,args,hidden_size):\n",
    "        super(self,S2T).__init__()\n",
    "        self.args = args\n",
    "        self.s2t_W1 = customizedModule(args,hidden_size,activation = nn.ReLU())\n",
    "        self.s2t_Wt = customizedModule(args,hidden_size)\n",
    "            \n",
    "    def forward(self,x):\n",
    "        \"\"\"\n",
    "        source2token self-attention module\n",
    "        :param x: (batch, (block_num), seq_len, hidden_size)\n",
    "        :return: s: (batch, (block_num), hidden_size)\n",
    "        \"\"\"\n",
    "        # (batch, (block_num), seq_len, word_dim)\n",
    "        f = self.s2t_W1(x)\n",
    "        f = self.s2t_Wt(f)\n",
    "        \n",
    "        # 沿著sequence length 做 softmax ， 算出每個token的 Pi\n",
    "        f = f.softmax(f,dim=-2)\n",
    "        s = torch.sum(f,dim = -2)\n",
    "        return s"
   ]
  },
  {
   "cell_type": "markdown",
   "metadata": {},
   "source": [
    "# Masked block self-attention"
   ]
  },
  {
   "attachments": {},
   "cell_type": "markdown",
   "metadata": {},
   "source": [
    "## 1. Inter-block\n",
    "![](https://i.imgur.com/8hup1mf.png)\n",
    "## 2. Feature fusion gate\n",
    "![](https://i.imgur.com/Xzmq1WF.png)"
   ]
  },
  {
   "cell_type": "code",
   "execution_count": 22,
   "metadata": {},
   "outputs": [],
   "source": [
    "class mBloSA(customizedModule):\n",
    "    def __init__(self,args,mask):\n",
    "        super(self,mBloSA).__init__()\n",
    "        self.args = args\n",
    "        self.mask = mask\n",
    "    \n",
    "    # 初始化 mblosa msa\n",
    "    def init_msa(self):\n",
    "        self.m_W1 = customizedLinear(self.args.word_dim, self.args.word_dim)\n",
    "        self.m_W2 = customizedLinear(self.args.word_dim, self.args.word_dim)\n",
    "        self.m_b = nn.Parameter(torch.zeros(self.args.word_dim))\n",
    "        \n",
    "        # 變成單純的W而已\n",
    "        self.m_W1[0].bias.requires_grad = False\n",
    "        self.m_W2[0].bisa.requires_grad = False\n",
    "        \n",
    "        # 預設是5啦\n",
    "        self.c = nn.Parameter(torch.Tensor([self.args.c]),requires_grad = False)\n",
    "        \n",
    "    def init_mBloSA(self):\n",
    "        # inter-block\n",
    "        self.g_W1 =  customizedLinear(self.args.word_dim, self.args.word_dim)\n",
    "        self.g_W2 =  customizedLinear(self.args.word_dim, self.args.word_dim)\n",
    "        self.g_b = nn.Parameter(torch.zeros(self.args.word_dim))\n",
    "    \n",
    "        # 變成單純的W而已\n",
    "        self.g_W1[0].bias.requires_grad = False\n",
    "        self.g_W2 [0].bisa.requires_grad = False\n",
    "        \n",
    "        #Feature fusion gate\n",
    "        self.f_W1 = customizedLinear(self.args.word_dim*3, self.args.word_dim,)\n",
    "        self.f_W2 = customizedLinear(self.args.word_dim*3, self.args.word_dim)\n",
    "    \n",
    "    def msa(self):\n",
    "        \"\"\"\n",
    "            masked self-attention module\n",
    "            :param x: (batch, (block_num), seq_len, word_dim)\n",
    "            :return: s: (batch, (block_num), seq_len, word_dim)\n",
    "        \"\"\"\n",
    "        seq_len = x.size(-2)\n",
    "        \n",
    "        # batch,block_num,suqlen,1,word_dim\n",
    "        xi = self.m_W1(x).unqueeze(-2)\n",
    "         # batch,block_num,1,suqlen,word_dim\n",
    "        xj = self.m_W2(x).unqueeze(-3)\n",
    "           \n",
    "        \n",
    "        \n",
    "        \n",
    "        "
   ]
  },
  {
   "cell_type": "code",
   "execution_count": null,
   "metadata": {},
   "outputs": [],
   "source": [
    "# M"
   ]
  }
 ],
 "metadata": {
  "kernelspec": {
   "display_name": "Python 3",
   "language": "python",
   "name": "python3"
  },
  "language_info": {
   "codemirror_mode": {
    "name": "ipython",
    "version": 3
   },
   "file_extension": ".py",
   "mimetype": "text/x-python",
   "name": "python",
   "nbconvert_exporter": "python",
   "pygments_lexer": "ipython3",
   "version": "3.7.3"
  }
 },
 "nbformat": 4,
 "nbformat_minor": 2
}
